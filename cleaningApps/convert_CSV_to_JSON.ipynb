{
 "cells": [
  {
   "cell_type": "code",
   "execution_count": 22,
   "metadata": {},
   "outputs": [],
   "source": [
    "import csv\n",
    "import json\n",
    "import pandas as pd"
   ]
  },
  {
   "cell_type": "code",
   "execution_count": 23,
   "metadata": {},
   "outputs": [],
   "source": [
    "def convertToJson(csvFilePath, jsonFilePath):\n",
    "#     csvFilePath = csvFilePath + '.csv'\n",
    "#     jsonFilePath = jsonFilePath + '.json'\n",
    "    df = pd.read_csv(csvFilePath)\n",
    "    df.to_json(jsonFilePath)"
   ]
  },
  {
   "cell_type": "code",
   "execution_count": 24,
   "metadata": {},
   "outputs": [],
   "source": [
    "listConvert = [\n",
    "'votersinfo',\n",
    "'Chair_Members',\n",
    "'contributions_2014',\n",
    "'contributions_2016',\n",
    "'contributions_2018',\n",
    "'Ranking_Members',\n",
    "'stateAbbrv']\n",
    "\n",
    "for i in listConvert:\n",
    "    csvFilePath = i + '.csv'\n",
    "    jsonFilePath = i + '.json'\n",
    "    convertToJson(csvFilePath, jsonFilePath)"
   ]
  }
 ],
 "metadata": {
  "kernelspec": {
   "display_name": "Python 3",
   "language": "python",
   "name": "python3"
  },
  "language_info": {
   "codemirror_mode": {
    "name": "ipython",
    "version": 3
   },
   "file_extension": ".py",
   "mimetype": "text/x-python",
   "name": "python",
   "nbconvert_exporter": "python",
   "pygments_lexer": "ipython3",
   "version": "3.7.7"
  }
 },
 "nbformat": 4,
 "nbformat_minor": 4
}
