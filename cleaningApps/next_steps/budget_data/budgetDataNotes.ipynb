{
 "cells": [
  {
   "cell_type": "markdown",
   "metadata": {},
   "source": [
    "# Importing Data\n",
    "- Scraping names and committee names of Senate Committee Members\n",
    "- Scraping individual data from wikipedia from the previous list created\n",
    "- Creating dataframes of both committee memebers ranking member and chair \n",
    "- including voter data, state, assumed office, time in office"
   ]
  },
  {
   "cell_type": "code",
   "execution_count": 1,
   "metadata": {},
   "outputs": [],
   "source": [
    "import re\n",
    "import pandas as pd\n",
    "import numpy as np\n",
    "import requests\n",
    "import os\n",
    "import json\n",
    "import matplotlib.pyplot as plt\n",
    "from bs4 import BeautifulSoup as bs\n",
    "from splinter import Browser\n",
    "import time\n",
    "from IPython.core.display import HTML\n",
    "from datetime import date, datetime"
   ]
  },
  {
   "cell_type": "code",
   "execution_count": 2,
   "metadata": {},
   "outputs": [],
   "source": [
    "#Generating list of year strings to add to url link concat"
   ]
  },
  {
   "cell_type": "code",
   "execution_count": 17,
   "metadata": {},
   "outputs": [],
   "source": [
    "# Format https://en.wikipedia.org/wiki/2014_United_States_federal_budget\n",
    "#completeUrl = sourceUrl + year + '_United_States_federal_budget'\n",
    "sourceUrl = \"https://en.wikipedia.org/wiki/\"\n",
    "years = ['2014', '2015', '2016', '2017', '2018']\n",
    "param = '_United_States_federal_budget'\n",
    "year = '2014'"
   ]
  },
  {
   "cell_type": "code",
   "execution_count": 22,
   "metadata": {},
   "outputs": [
    {
     "data": {
      "text/plain": [
       "pandas.core.frame.DataFrame"
      ]
     },
     "execution_count": 22,
     "metadata": {},
     "output_type": "execute_result"
    }
   ],
   "source": [
    "type(pd.DataFrame())"
   ]
  },
  {
   "cell_type": "code",
   "execution_count": null,
   "metadata": {},
   "outputs": [],
   "source": [
    "# def checkType(whatType):\n",
    "#     typeStr = ''\n",
    "#     typeBoolT = True\n",
    "#     typeBoolF = False\n",
    "#     typeInt = type(0)\n",
    "#     typeFloat = type(0.1)\n",
    "#     typeList = []\n",
    "#     typeDict = {}\n",
    "#     typeSeries = pd.Series()\n",
    "#     typeDF = pd.DataFrame()\n",
    "#     if type(sourceUrl) == typeStr:\n",
    "#         return True\n",
    "#     elif\n",
    "    \n",
    "    "
   ]
  },
  {
   "cell_type": "code",
   "execution_count": null,
   "metadata": {},
   "outputs": [],
   "source": [
    "#Creating a function that checks the params if they are a list, concats into a full list\n",
    "def searchWiki(sourceUrl, year, sourceParam):\n",
    "    typeList = []\n",
    "    yearI = []\n",
    "    exportLink = []\n",
    "    if type(sourceUrl) == type(typeList):\n",
    "       \n",
    "        "
   ]
  },
  {
   "cell_type": "code",
   "execution_count": 18,
   "metadata": {},
   "outputs": [],
   "source": [
    "            \n",
    "            \n",
    "            \n",
    "            \n",
    "            \n",
    "            \n",
    "            \n",
    "    elif type(year) == type(typeList):\n",
    "        for i in year:\n",
    "            exportLink.append(sourceUrl + i + sourceParam)\n",
    "    elif type(sourceParam) == type(typeList):\n",
    "        for i in sourceParam:\n",
    "            exportLink.append(sourceParam + i + sourceParam)\n",
    "    else:\n",
    "        exportLink = ''\n",
    "        exportLink = sourceUrl + year + sourceParam \n",
    "    return exportLink"
   ]
  },
  {
   "cell_type": "code",
   "execution_count": 19,
   "metadata": {},
   "outputs": [
    {
     "data": {
      "text/plain": [
       "'https://en.wikipedia.org/wiki/2014_United_States_federal_budget'"
      ]
     },
     "execution_count": 19,
     "metadata": {},
     "output_type": "execute_result"
    }
   ],
   "source": [
    "fullUrl = searchWiki(sourceUrl, year, param)\n",
    "fullUrl"
   ]
  },
  {
   "cell_type": "code",
   "execution_count": null,
   "metadata": {},
   "outputs": [],
   "source": [
    "response = requests.get(url)\n",
    "soup = bs(response.text, 'html.parser')\n",
    "#print(soup.prettify())\n",
    "names = pd.read_html(url)"
   ]
  },
  {
   "cell_type": "code",
   "execution_count": null,
   "metadata": {},
   "outputs": [],
   "source": [
    "#columnNames = smallDF.columns().tolist()\n",
    "sliceNames = names[0]"
   ]
  },
  {
   "cell_type": "code",
   "execution_count": null,
   "metadata": {},
   "outputs": [],
   "source": [
    "# names[0].head()"
   ]
  },
  {
   "cell_type": "code",
   "execution_count": null,
   "metadata": {},
   "outputs": [],
   "source": [
    "sliceNames.to_csv('names.csv', index = False)"
   ]
  },
  {
   "cell_type": "code",
   "execution_count": null,
   "metadata": {},
   "outputs": [],
   "source": [
    "importNames = pd.read_csv('names.csv')\n",
    "committee = importNames['Committee']\n",
    "chairNames = importNames['Chair']\n",
    "rankingMembers = importNames['Ranking Member']"
   ]
  },
  {
   "cell_type": "code",
   "execution_count": null,
   "metadata": {},
   "outputs": [],
   "source": [
    "chairNames = list(chairNames)\n",
    "chairNames = chairNames[1:]\n",
    "rankingMembers = rankingMembers[1:]"
   ]
  },
  {
   "cell_type": "code",
   "execution_count": null,
   "metadata": {},
   "outputs": [],
   "source": [
    "#Pulling out list of names from scrape\n",
    "#chairNames[1][:12]\n",
    "def stripNames(stripList):\n",
    "    stateParty = []\n",
    "    fullName = []\n",
    "    party = []\n",
    "    state = []\n",
    "    for i in stripList:\n",
    "        counter = 0\n",
    "        for j in i:\n",
    "            counter += 1\n",
    "            if j == '(':\n",
    "                stateParty.append(i[counter-1:])\n",
    "                fullName.append(i[:counter-2])\n",
    "                party.append(i[-5:len(i)-4])\n",
    "                state.append(i[-3:len(i)-1])\n",
    "                #print(counter)\n",
    "    return fullName, stateParty, party, state"
   ]
  },
  {
   "cell_type": "code",
   "execution_count": null,
   "metadata": {},
   "outputs": [],
   "source": [
    "importNames"
   ]
  },
  {
   "cell_type": "code",
   "execution_count": null,
   "metadata": {},
   "outputs": [],
   "source": [
    "chairNamesCols = stripNames(chairNames)\n",
    "rankingMembersCols = stripNames(rankingMembers)\n",
    "len(importNames)\n",
    "importNames = importNames.drop(importNames.index[0])\n",
    "print(len(importNames))"
   ]
  },
  {
   "cell_type": "code",
   "execution_count": null,
   "metadata": {},
   "outputs": [],
   "source": [
    "importNames['Chair Names'] = chairNamesCols[0]\n",
    "importNames['Party'] = chairNamesCols[1]\n",
    "importNames['PartyAbbv'] = chairNamesCols[2]\n",
    "importNames['State'] = chairNamesCols[3]\n",
    "importNames['Ranking Members'] = rankingMembersCols[0]\n",
    "importNames['Party'] = rankingMembersCols[1]\n",
    "importNames['PartyAbbv'] = rankingMembersCols[2]\n",
    "importNames['State'] = rankingMembersCols[3]"
   ]
  },
  {
   "cell_type": "code",
   "execution_count": null,
   "metadata": {},
   "outputs": [],
   "source": [
    "importNames = importNames.rename(columns={'Committee.1':'SubComittee'})\n",
    "importNames['Committee'] = importNames['Committee'].replace(np.NaN, 'SubCommittee')\n",
    "importNames.drop(columns=['Refs', 'Ranking Member', 'Chair', 'Party'])"
   ]
  },
  {
   "cell_type": "code",
   "execution_count": null,
   "metadata": {},
   "outputs": [],
   "source": [
    "# This should work???\n",
    "# def replaceUnderscore(replaceList):\n",
    "#     names_= []\n",
    "#     i=0\n",
    "#     while i < len(replaceList):\n",
    "#         names_.append((replaceList[0][i]).replace(' ', '_'))\n",
    "#         i += 1 \n",
    "#     return names_\n",
    "# print(replaceUnderscore(chairNamesCols))"
   ]
  },
  {
   "cell_type": "code",
   "execution_count": null,
   "metadata": {},
   "outputs": [],
   "source": [
    "chairNames_= []\n",
    "rankingNames_=[]\n",
    "i=0\n",
    "while i < len(chairNames):\n",
    "    rankingNames_.append((chairNamesCols[0][i]).replace(' ', '_'))\n",
    "    chairNames_.append((chairNamesCols[0][i]).replace(' ', '_'))\n",
    "    i += 1"
   ]
  },
  {
   "cell_type": "code",
   "execution_count": null,
   "metadata": {},
   "outputs": [],
   "source": [
    "count = chairNames_\n",
    "j = 0\n",
    "k = 0\n",
    "for l in chairNames_:\n",
    "    k = 0\n",
    "    while k < 14:\n",
    "        count = allRecords[j]\n",
    "        globals()[l].append(count)\n",
    "        k += 1\n",
    "    j += 1"
   ]
  },
  {
   "cell_type": "code",
   "execution_count": null,
   "metadata": {},
   "outputs": [],
   "source": [
    "count = chairNames_\n",
    "for l in chairNames_:\n",
    "    globals()l = []\n",
    "    while k < 14:\n",
    "        count = allRecords[j]\n",
    "        globals()[l].append(count)\n",
    "        k += 1\n",
    "    j += 1"
   ]
  },
  {
   "cell_type": "code",
   "execution_count": null,
   "metadata": {},
   "outputs": [],
   "source": [
    "allRecords = []\n",
    "counter = 1\n",
    "for i in chairNames_:\n",
    "        totalRequests = len(chairNames_)\n",
    "        print('////////////////////////////////////////////////////////////////////')\n",
    "        print(f'REQUESTING {totalRequests*14} RECORDS')\n",
    "        time.sleep(10)\n",
    "        if i == 'VACANT':\n",
    "            print('skipping')\n",
    "            counter += 1\n",
    "            continue\n",
    "        else:\n",
    "            try:\n",
    "                print('////////////////////////////////////////////////////////////////////')\n",
    "                print(f'RETRIEVING RECORDS:: {i}, {counter} OF {totalRequests}')\n",
    "                print('////////////////////////////////////////////////////////////////////')\n",
    "                SenatorUrl = 'https://en.wikipedia.org/wiki/' + i\n",
    "                counter14 = 0\n",
    "                while counter14 < 14:\n",
    "                    holdingVar = (pd.read_html(SenatorUrl)[counter14])\n",
    "                    print('////////////////////////////////////////////////////////////////////')\n",
    "                    print(f'TOTAL RECORDS RECIEVED {len(holdingVar)}: REQUESTING {counter14} OF 14 FOR {i}')\n",
    "                    print('////////////////////////////////////////////////////////////////////')\n",
    "                    print(holdingVar)\n",
    "                    allRecords.append(holdingVar)\n",
    "                    counter14 += 1 \n",
    "                    counter += 1\n",
    "            except:\n",
    "                print('VALUE ERROR OR INDEX ERROR')\n",
    "                print('////////////////////////////////////////////////////////////////////')\n",
    "                continue\n",
    "    "
   ]
  },
  {
   "cell_type": "code",
   "execution_count": null,
   "metadata": {},
   "outputs": [],
   "source": [
    "len(allRecords)"
   ]
  },
  {
   "cell_type": "code",
   "execution_count": null,
   "metadata": {},
   "outputs": [],
   "source": [
    "type(allRecords[0])"
   ]
  },
  {
   "cell_type": "code",
   "execution_count": null,
   "metadata": {},
   "outputs": [],
   "source": [
    "chairNames_[3]"
   ]
  },
  {
   "cell_type": "code",
   "execution_count": null,
   "metadata": {},
   "outputs": [],
   "source": [
    "count = chairNames_\n",
    "j = 0\n",
    "k = 0\n",
    "for l in chairNames_:\n",
    "    globals()l = []\n",
    "    while k < 14:\n",
    "        count = allRecords[j]\n",
    "        globals()[l].append(count)\n",
    "        k += 1\n",
    "    j += 1"
   ]
  },
  {
   "cell_type": "code",
   "execution_count": null,
   "metadata": {},
   "outputs": [],
   "source": []
  },
  {
   "cell_type": "code",
   "execution_count": null,
   "metadata": {},
   "outputs": [],
   "source": [
    "Mike_Braun"
   ]
  },
  {
   "cell_type": "code",
   "execution_count": null,
   "metadata": {},
   "outputs": [],
   "source": [
    "len(John_Boozman)"
   ]
  },
  {
   "cell_type": "code",
   "execution_count": null,
   "metadata": {},
   "outputs": [],
   "source": [
    "Pat_Roberts"
   ]
  },
  {
   "cell_type": "code",
   "execution_count": null,
   "metadata": {},
   "outputs": [],
   "source": [
    "#ConvertToDict(allRecords)"
   ]
  },
  {
   "cell_type": "code",
   "execution_count": null,
   "metadata": {},
   "outputs": [],
   "source": [
    "allRecords.to_csv('wikiRecords', index = False)"
   ]
  },
  {
   "cell_type": "code",
   "execution_count": null,
   "metadata": {},
   "outputs": [],
   "source": []
  }
 ],
 "metadata": {
  "kernelspec": {
   "display_name": "Python 3",
   "language": "python",
   "name": "python3"
  },
  "language_info": {
   "codemirror_mode": {
    "name": "ipython",
    "version": 3
   },
   "file_extension": ".py",
   "mimetype": "text/x-python",
   "name": "python",
   "nbconvert_exporter": "python",
   "pygments_lexer": "ipython3",
   "version": "3.7.7"
  }
 },
 "nbformat": 4,
 "nbformat_minor": 4
}
