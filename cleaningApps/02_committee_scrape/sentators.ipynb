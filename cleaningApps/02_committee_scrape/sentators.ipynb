{
 "cells": [
  {
   "cell_type": "markdown",
   "metadata": {},
   "source": [
    "# Importing Data\n",
    "- Scraping names and committee names of Senate Committee Members\n",
    "- Scraping individual data from wikipedia from the previous list created\n",
    "- Creating dataframes of both committee memebers ranking member and chair \n",
    "- including voter data, state, assumed office, time in office"
   ]
  },
  {
   "cell_type": "code",
   "execution_count": 38,
   "metadata": {},
   "outputs": [],
   "source": [
    "import re\n",
    "import pandas as pd\n",
    "import numpy as np\n",
    "import requests\n",
    "import os\n",
    "import json\n",
    "import matplotlib.pyplot as plt\n",
    "from bs4 import BeautifulSoup as bs\n",
    "from splinter import Browser\n",
    "import time\n",
    "from IPython.core.display import HTML\n",
    "from datetime import date, datetime"
   ]
  },
  {
   "cell_type": "code",
   "execution_count": 39,
   "metadata": {},
   "outputs": [],
   "source": [
    "url = \"https://en.wikipedia.org/wiki/List_of_United_States_Senate_committees\""
   ]
  },
  {
   "cell_type": "code",
   "execution_count": 40,
   "metadata": {},
   "outputs": [],
   "source": [
    "response = requests.get(url)\n",
    "soup = bs(response.text, 'html.parser')\n",
    "#print(soup.prettify())\n",
    "names = pd.read_html(url)"
   ]
  },
  {
   "cell_type": "code",
   "execution_count": 41,
   "metadata": {},
   "outputs": [],
   "source": [
    "#columnNames = smallDF.columns().tolist()\n",
    "sliceNames = names[0]"
   ]
  },
  {
   "cell_type": "code",
   "execution_count": 42,
   "metadata": {},
   "outputs": [],
   "source": [
    "# names[0].head()"
   ]
  },
  {
   "cell_type": "code",
   "execution_count": 43,
   "metadata": {},
   "outputs": [],
   "source": [
    "sliceNames.to_csv('names.csv', index = False)"
   ]
  },
  {
   "cell_type": "code",
   "execution_count": 44,
   "metadata": {},
   "outputs": [],
   "source": [
    "importNames = pd.read_csv('names.csv')\n",
    "committee = importNames['Committee']\n",
    "chairNames = importNames['Chair']\n",
    "rankingMembers = importNames['Ranking Member']"
   ]
  },
  {
   "cell_type": "code",
   "execution_count": 45,
   "metadata": {},
   "outputs": [],
   "source": [
    "chairNames = list(chairNames)\n",
    "chairNames = chairNames[1:]\n",
    "rankingMembers = rankingMembers[1:]"
   ]
  },
  {
   "cell_type": "code",
   "execution_count": 46,
   "metadata": {},
   "outputs": [],
   "source": [
    "#Pulling out list of names from scrape\n",
    "#chairNames[1][:12]\n",
    "def stripNames(stripList):\n",
    "    stateParty = []\n",
    "    fullName = []\n",
    "    party = []\n",
    "    state = []\n",
    "    for i in stripList:\n",
    "        counter = 0\n",
    "        for j in i:\n",
    "            counter += 1\n",
    "            if j == '(':\n",
    "                stateParty.append(i[counter-1:])\n",
    "                fullName.append(i[:counter-2])\n",
    "                party.append(i[-5:len(i)-4])\n",
    "                state.append(i[-3:len(i)-1])\n",
    "                #print(counter)\n",
    "    return fullName, stateParty, party, state"
   ]
  },
  {
   "cell_type": "code",
   "execution_count": 47,
   "metadata": {},
   "outputs": [
    {
     "data": {
      "text/html": [
       "<div>\n",
       "<style scoped>\n",
       "    .dataframe tbody tr th:only-of-type {\n",
       "        vertical-align: middle;\n",
       "    }\n",
       "\n",
       "    .dataframe tbody tr th {\n",
       "        vertical-align: top;\n",
       "    }\n",
       "\n",
       "    .dataframe thead th {\n",
       "        text-align: right;\n",
       "    }\n",
       "</style>\n",
       "<table border=\"1\" class=\"dataframe\">\n",
       "  <thead>\n",
       "    <tr style=\"text-align: right;\">\n",
       "      <th></th>\n",
       "      <th>Committee</th>\n",
       "      <th>Committee.1</th>\n",
       "      <th>Chair</th>\n",
       "      <th>Ranking Member</th>\n",
       "      <th>Refs</th>\n",
       "    </tr>\n",
       "  </thead>\n",
       "  <tbody>\n",
       "    <tr>\n",
       "      <th>0</th>\n",
       "      <td>Unnamed: 0_level_1</td>\n",
       "      <td>Subcommittee</td>\n",
       "      <td>Chair</td>\n",
       "      <td>Ranking Member</td>\n",
       "      <td>Refs</td>\n",
       "    </tr>\n",
       "    <tr>\n",
       "      <th>1</th>\n",
       "      <td>Agriculture, Nutrition and Forestry</td>\n",
       "      <td>Agriculture, Nutrition and Forestry</td>\n",
       "      <td>Pat Roberts (R-KS)</td>\n",
       "      <td>Debbie Stabenow (D-MI)</td>\n",
       "      <td>[1][2]</td>\n",
       "    </tr>\n",
       "    <tr>\n",
       "      <th>2</th>\n",
       "      <td>NaN</td>\n",
       "      <td>Commodities, Risk Management and Trade</td>\n",
       "      <td>John Boozman (R-AR)</td>\n",
       "      <td>Sherrod Brown (D-OH)</td>\n",
       "      <td>[3]</td>\n",
       "    </tr>\n",
       "    <tr>\n",
       "      <th>3</th>\n",
       "      <td>NaN</td>\n",
       "      <td>Conservation, Forestry and Natural Resources</td>\n",
       "      <td>Mike Braun (R-IN)</td>\n",
       "      <td>Michael Bennet (D-CO)</td>\n",
       "      <td>[3]</td>\n",
       "    </tr>\n",
       "    <tr>\n",
       "      <th>4</th>\n",
       "      <td>NaN</td>\n",
       "      <td>Livestock, Marketing and Agriculture Security</td>\n",
       "      <td>Cindy Hyde-Smith (R-MS)</td>\n",
       "      <td>Kirsten Gillibrand (D-NY)</td>\n",
       "      <td>[3]</td>\n",
       "    </tr>\n",
       "    <tr>\n",
       "      <th>...</th>\n",
       "      <td>...</td>\n",
       "      <td>...</td>\n",
       "      <td>...</td>\n",
       "      <td>...</td>\n",
       "      <td>...</td>\n",
       "    </tr>\n",
       "    <tr>\n",
       "      <th>80</th>\n",
       "      <td>NaN</td>\n",
       "      <td>Intellectual Property</td>\n",
       "      <td>Thom Tillis (R-NC)</td>\n",
       "      <td>Chris Coons (D-DE)</td>\n",
       "      <td>[14]</td>\n",
       "    </tr>\n",
       "    <tr>\n",
       "      <th>81</th>\n",
       "      <td>NaN</td>\n",
       "      <td>Oversight, Agency Action, Federal Rights and F...</td>\n",
       "      <td>Ben Sasse (R-NE)</td>\n",
       "      <td>Richard Blumenthal (D-CT)</td>\n",
       "      <td>[14]</td>\n",
       "    </tr>\n",
       "    <tr>\n",
       "      <th>82</th>\n",
       "      <td>Rules and Administration</td>\n",
       "      <td>Rules and Administration</td>\n",
       "      <td>Roy Blunt (R-MO)</td>\n",
       "      <td>Amy Klobuchar (D-MN)</td>\n",
       "      <td>[1][2]</td>\n",
       "    </tr>\n",
       "    <tr>\n",
       "      <th>83</th>\n",
       "      <td>Small Business and Entrepreneurship</td>\n",
       "      <td>Small Business and Entrepreneurship</td>\n",
       "      <td>Marco Rubio (R-FL)</td>\n",
       "      <td>Ben Cardin (D-MD)</td>\n",
       "      <td>[1][2]</td>\n",
       "    </tr>\n",
       "    <tr>\n",
       "      <th>84</th>\n",
       "      <td>Veterans' Affairs</td>\n",
       "      <td>Veterans' Affairs</td>\n",
       "      <td>Jerry Moran (R-KS)</td>\n",
       "      <td>Jon Tester (D-MT)</td>\n",
       "      <td>[1][2]</td>\n",
       "    </tr>\n",
       "  </tbody>\n",
       "</table>\n",
       "<p>85 rows × 5 columns</p>\n",
       "</div>"
      ],
      "text/plain": [
       "                              Committee  \\\n",
       "0                    Unnamed: 0_level_1   \n",
       "1   Agriculture, Nutrition and Forestry   \n",
       "2                                   NaN   \n",
       "3                                   NaN   \n",
       "4                                   NaN   \n",
       "..                                  ...   \n",
       "80                                  NaN   \n",
       "81                                  NaN   \n",
       "82             Rules and Administration   \n",
       "83  Small Business and Entrepreneurship   \n",
       "84                    Veterans' Affairs   \n",
       "\n",
       "                                          Committee.1  \\\n",
       "0                                        Subcommittee   \n",
       "1                 Agriculture, Nutrition and Forestry   \n",
       "2              Commodities, Risk Management and Trade   \n",
       "3        Conservation, Forestry and Natural Resources   \n",
       "4       Livestock, Marketing and Agriculture Security   \n",
       "..                                                ...   \n",
       "80                              Intellectual Property   \n",
       "81  Oversight, Agency Action, Federal Rights and F...   \n",
       "82                           Rules and Administration   \n",
       "83                Small Business and Entrepreneurship   \n",
       "84                                  Veterans' Affairs   \n",
       "\n",
       "                      Chair             Ranking Member    Refs  \n",
       "0                     Chair             Ranking Member    Refs  \n",
       "1        Pat Roberts (R-KS)     Debbie Stabenow (D-MI)  [1][2]  \n",
       "2       John Boozman (R-AR)       Sherrod Brown (D-OH)     [3]  \n",
       "3         Mike Braun (R-IN)      Michael Bennet (D-CO)     [3]  \n",
       "4   Cindy Hyde-Smith (R-MS)  Kirsten Gillibrand (D-NY)     [3]  \n",
       "..                      ...                        ...     ...  \n",
       "80       Thom Tillis (R-NC)         Chris Coons (D-DE)    [14]  \n",
       "81         Ben Sasse (R-NE)  Richard Blumenthal (D-CT)    [14]  \n",
       "82         Roy Blunt (R-MO)       Amy Klobuchar (D-MN)  [1][2]  \n",
       "83       Marco Rubio (R-FL)          Ben Cardin (D-MD)  [1][2]  \n",
       "84       Jerry Moran (R-KS)          Jon Tester (D-MT)  [1][2]  \n",
       "\n",
       "[85 rows x 5 columns]"
      ]
     },
     "execution_count": 47,
     "metadata": {},
     "output_type": "execute_result"
    }
   ],
   "source": [
    "importNames"
   ]
  },
  {
   "cell_type": "code",
   "execution_count": 48,
   "metadata": {},
   "outputs": [
    {
     "name": "stdout",
     "output_type": "stream",
     "text": [
      "84\n"
     ]
    }
   ],
   "source": [
    "chairNamesCols = stripNames(chairNames)\n",
    "rankingMembersCols = stripNames(rankingMembers)\n",
    "len(importNames)\n",
    "importNames = importNames.drop(importNames.index[0])\n",
    "print(len(importNames))"
   ]
  },
  {
   "cell_type": "code",
   "execution_count": 49,
   "metadata": {},
   "outputs": [],
   "source": [
    "importNames['Chair Names'] = chairNamesCols[0]\n",
    "importNames['Party'] = chairNamesCols[1]\n",
    "importNames['PartyAbbv'] = chairNamesCols[2]\n",
    "importNames['State'] = chairNamesCols[3]\n",
    "importNames['Ranking Members'] = rankingMembersCols[0]\n",
    "importNames['Party'] = rankingMembersCols[1]\n",
    "importNames['PartyAbbv'] = rankingMembersCols[2]\n",
    "importNames['State'] = rankingMembersCols[3]"
   ]
  },
  {
   "cell_type": "code",
   "execution_count": 53,
   "metadata": {},
   "outputs": [
    {
     "data": {
      "text/html": [
       "<div>\n",
       "<style scoped>\n",
       "    .dataframe tbody tr th:only-of-type {\n",
       "        vertical-align: middle;\n",
       "    }\n",
       "\n",
       "    .dataframe tbody tr th {\n",
       "        vertical-align: top;\n",
       "    }\n",
       "\n",
       "    .dataframe thead th {\n",
       "        text-align: right;\n",
       "    }\n",
       "</style>\n",
       "<table border=\"1\" class=\"dataframe\">\n",
       "  <thead>\n",
       "    <tr style=\"text-align: right;\">\n",
       "      <th></th>\n",
       "      <th>Committee</th>\n",
       "      <th>SubComittee</th>\n",
       "      <th>Chair Names</th>\n",
       "      <th>PartyAbbv</th>\n",
       "      <th>State</th>\n",
       "      <th>Ranking Members</th>\n",
       "    </tr>\n",
       "  </thead>\n",
       "  <tbody>\n",
       "    <tr>\n",
       "      <th>1</th>\n",
       "      <td>Agriculture, Nutrition and Forestry</td>\n",
       "      <td>Agriculture, Nutrition and Forestry</td>\n",
       "      <td>Pat Roberts</td>\n",
       "      <td>D</td>\n",
       "      <td>MI</td>\n",
       "      <td>Debbie Stabenow</td>\n",
       "    </tr>\n",
       "    <tr>\n",
       "      <th>2</th>\n",
       "      <td>SubCommittee</td>\n",
       "      <td>Commodities, Risk Management and Trade</td>\n",
       "      <td>John Boozman</td>\n",
       "      <td>D</td>\n",
       "      <td>OH</td>\n",
       "      <td>Sherrod Brown</td>\n",
       "    </tr>\n",
       "    <tr>\n",
       "      <th>3</th>\n",
       "      <td>SubCommittee</td>\n",
       "      <td>Conservation, Forestry and Natural Resources</td>\n",
       "      <td>Mike Braun</td>\n",
       "      <td>D</td>\n",
       "      <td>CO</td>\n",
       "      <td>Michael Bennet</td>\n",
       "    </tr>\n",
       "    <tr>\n",
       "      <th>4</th>\n",
       "      <td>SubCommittee</td>\n",
       "      <td>Livestock, Marketing and Agriculture Security</td>\n",
       "      <td>Cindy Hyde-Smith</td>\n",
       "      <td>D</td>\n",
       "      <td>NY</td>\n",
       "      <td>Kirsten Gillibrand</td>\n",
       "    </tr>\n",
       "    <tr>\n",
       "      <th>5</th>\n",
       "      <td>SubCommittee</td>\n",
       "      <td>Nutrition, Agricultural Research and Specialty...</td>\n",
       "      <td>Deb Fischer</td>\n",
       "      <td>D</td>\n",
       "      <td>PA</td>\n",
       "      <td>Bob Casey</td>\n",
       "    </tr>\n",
       "    <tr>\n",
       "      <th>...</th>\n",
       "      <td>...</td>\n",
       "      <td>...</td>\n",
       "      <td>...</td>\n",
       "      <td>...</td>\n",
       "      <td>...</td>\n",
       "      <td>...</td>\n",
       "    </tr>\n",
       "    <tr>\n",
       "      <th>80</th>\n",
       "      <td>SubCommittee</td>\n",
       "      <td>Intellectual Property</td>\n",
       "      <td>Thom Tillis</td>\n",
       "      <td>D</td>\n",
       "      <td>DE</td>\n",
       "      <td>Chris Coons</td>\n",
       "    </tr>\n",
       "    <tr>\n",
       "      <th>81</th>\n",
       "      <td>SubCommittee</td>\n",
       "      <td>Oversight, Agency Action, Federal Rights and F...</td>\n",
       "      <td>Ben Sasse</td>\n",
       "      <td>D</td>\n",
       "      <td>CT</td>\n",
       "      <td>Richard Blumenthal</td>\n",
       "    </tr>\n",
       "    <tr>\n",
       "      <th>82</th>\n",
       "      <td>Rules and Administration</td>\n",
       "      <td>Rules and Administration</td>\n",
       "      <td>Roy Blunt</td>\n",
       "      <td>D</td>\n",
       "      <td>MN</td>\n",
       "      <td>Amy Klobuchar</td>\n",
       "    </tr>\n",
       "    <tr>\n",
       "      <th>83</th>\n",
       "      <td>Small Business and Entrepreneurship</td>\n",
       "      <td>Small Business and Entrepreneurship</td>\n",
       "      <td>Marco Rubio</td>\n",
       "      <td>D</td>\n",
       "      <td>MD</td>\n",
       "      <td>Ben Cardin</td>\n",
       "    </tr>\n",
       "    <tr>\n",
       "      <th>84</th>\n",
       "      <td>Veterans' Affairs</td>\n",
       "      <td>Veterans' Affairs</td>\n",
       "      <td>Jerry Moran</td>\n",
       "      <td>D</td>\n",
       "      <td>MT</td>\n",
       "      <td>Jon Tester</td>\n",
       "    </tr>\n",
       "  </tbody>\n",
       "</table>\n",
       "<p>84 rows × 6 columns</p>\n",
       "</div>"
      ],
      "text/plain": [
       "                              Committee  \\\n",
       "1   Agriculture, Nutrition and Forestry   \n",
       "2                          SubCommittee   \n",
       "3                          SubCommittee   \n",
       "4                          SubCommittee   \n",
       "5                          SubCommittee   \n",
       "..                                  ...   \n",
       "80                         SubCommittee   \n",
       "81                         SubCommittee   \n",
       "82             Rules and Administration   \n",
       "83  Small Business and Entrepreneurship   \n",
       "84                    Veterans' Affairs   \n",
       "\n",
       "                                          SubComittee       Chair Names  \\\n",
       "1                 Agriculture, Nutrition and Forestry       Pat Roberts   \n",
       "2              Commodities, Risk Management and Trade      John Boozman   \n",
       "3        Conservation, Forestry and Natural Resources        Mike Braun   \n",
       "4       Livestock, Marketing and Agriculture Security  Cindy Hyde-Smith   \n",
       "5   Nutrition, Agricultural Research and Specialty...       Deb Fischer   \n",
       "..                                                ...               ...   \n",
       "80                              Intellectual Property       Thom Tillis   \n",
       "81  Oversight, Agency Action, Federal Rights and F...         Ben Sasse   \n",
       "82                           Rules and Administration         Roy Blunt   \n",
       "83                Small Business and Entrepreneurship       Marco Rubio   \n",
       "84                                  Veterans' Affairs       Jerry Moran   \n",
       "\n",
       "   PartyAbbv State     Ranking Members  \n",
       "1          D    MI     Debbie Stabenow  \n",
       "2          D    OH       Sherrod Brown  \n",
       "3          D    CO      Michael Bennet  \n",
       "4          D    NY  Kirsten Gillibrand  \n",
       "5          D    PA           Bob Casey  \n",
       "..       ...   ...                 ...  \n",
       "80         D    DE         Chris Coons  \n",
       "81         D    CT  Richard Blumenthal  \n",
       "82         D    MN       Amy Klobuchar  \n",
       "83         D    MD          Ben Cardin  \n",
       "84         D    MT          Jon Tester  \n",
       "\n",
       "[84 rows x 6 columns]"
      ]
     },
     "execution_count": 53,
     "metadata": {},
     "output_type": "execute_result"
    }
   ],
   "source": [
    "importNames = importNames.rename(columns={'Committee.1':'SubComittee'})\n",
    "importNames['Committee'] = importNames['Committee'].replace(np.NaN, 'SubCommittee')\n",
    "importNames.drop(columns=['Refs', 'Ranking Member', 'Chair', 'Party'])"
   ]
  },
  {
   "cell_type": "code",
   "execution_count": null,
   "metadata": {},
   "outputs": [],
   "source": [
    "# This should work???\n",
    "# def replaceUnderscore(replaceList):\n",
    "#     names_= []\n",
    "#     i=0\n",
    "#     while i < len(replaceList):\n",
    "#         names_.append((replaceList[0][i]).replace(' ', '_'))\n",
    "#         i += 1 \n",
    "#     return names_\n",
    "# print(replaceUnderscore(chairNamesCols))"
   ]
  },
  {
   "cell_type": "code",
   "execution_count": null,
   "metadata": {},
   "outputs": [],
   "source": [
    "chairNames_= []\n",
    "rankingNames_=[]\n",
    "i=0\n",
    "while i < len(chairNames):\n",
    "    rankingNames_.append((chairNamesCols[0][i]).replace(' ', '_'))\n",
    "    chairNames_.append((chairNamesCols[0][i]).replace(' ', '_'))\n",
    "    i += 1"
   ]
  },
  {
   "cell_type": "code",
   "execution_count": null,
   "metadata": {},
   "outputs": [],
   "source": [
    "count = chairNames_\n",
    "j = 0\n",
    "k = 0\n",
    "for l in chairNames_:\n",
    "    k = 0\n",
    "    while k < 14:\n",
    "        count = allRecords[j]\n",
    "        globals()[l].append(count)\n",
    "        k += 1\n",
    "    j += 1"
   ]
  },
  {
   "cell_type": "code",
   "execution_count": null,
   "metadata": {},
   "outputs": [],
   "source": [
    "count = chairNames_\n",
    "for l in chairNames_:\n",
    "    globals()l = []\n",
    "    while k < 14:\n",
    "        count = allRecords[j]\n",
    "        globals()[l].append(count)\n",
    "        k += 1\n",
    "    j += 1"
   ]
  },
  {
   "cell_type": "code",
   "execution_count": null,
   "metadata": {},
   "outputs": [],
   "source": [
    "allRecords = []\n",
    "counter = 1\n",
    "for i in chairNames_:\n",
    "        totalRequests = len(chairNames_)\n",
    "        print('////////////////////////////////////////////////////////////////////')\n",
    "        print(f'REQUESTING {totalRequests*14} RECORDS')\n",
    "        time.sleep(10)\n",
    "        if i == 'VACANT':\n",
    "            print('skipping')\n",
    "            counter += 1\n",
    "            continue\n",
    "        else:\n",
    "            try:\n",
    "                print('////////////////////////////////////////////////////////////////////')\n",
    "                print(f'RETRIEVING RECORDS:: {i}, {counter} OF {totalRequests}')\n",
    "                print('////////////////////////////////////////////////////////////////////')\n",
    "                SenatorUrl = 'https://en.wikipedia.org/wiki/' + i\n",
    "                counter14 = 0\n",
    "                while counter14 < 14:\n",
    "                    holdingVar = (pd.read_html(SenatorUrl)[counter14])\n",
    "                    print('////////////////////////////////////////////////////////////////////')\n",
    "                    print(f'TOTAL RECORDS RECIEVED {len(holdingVar)}: REQUESTING {counter14} OF 14 FOR {i}')\n",
    "                    print('////////////////////////////////////////////////////////////////////')\n",
    "                    print(holdingVar)\n",
    "                    allRecords.append(holdingVar)\n",
    "                    counter14 += 1 \n",
    "                    counter += 1\n",
    "            except:\n",
    "                print('VALUE ERROR OR INDEX ERROR')\n",
    "                print('////////////////////////////////////////////////////////////////////')\n",
    "                continue\n",
    "    "
   ]
  },
  {
   "cell_type": "code",
   "execution_count": null,
   "metadata": {},
   "outputs": [],
   "source": [
    "len(allRecords)"
   ]
  },
  {
   "cell_type": "code",
   "execution_count": null,
   "metadata": {},
   "outputs": [],
   "source": [
    "type(allRecords[0])"
   ]
  },
  {
   "cell_type": "code",
   "execution_count": null,
   "metadata": {},
   "outputs": [],
   "source": [
    "chairNames_[3]"
   ]
  },
  {
   "cell_type": "code",
   "execution_count": null,
   "metadata": {},
   "outputs": [],
   "source": [
    "count = chairNames_\n",
    "j = 0\n",
    "k = 0\n",
    "for l in chairNames_:\n",
    "    globals()l = []\n",
    "    while k < 14:\n",
    "        count = allRecords[j]\n",
    "        globals()[l].append(count)\n",
    "        k += 1\n",
    "    j += 1"
   ]
  },
  {
   "cell_type": "code",
   "execution_count": null,
   "metadata": {},
   "outputs": [],
   "source": []
  },
  {
   "cell_type": "code",
   "execution_count": null,
   "metadata": {},
   "outputs": [],
   "source": [
    "Mike_Braun"
   ]
  },
  {
   "cell_type": "code",
   "execution_count": null,
   "metadata": {},
   "outputs": [],
   "source": [
    "len(John_Boozman)"
   ]
  },
  {
   "cell_type": "code",
   "execution_count": null,
   "metadata": {},
   "outputs": [],
   "source": [
    "Pat_Roberts"
   ]
  },
  {
   "cell_type": "code",
   "execution_count": null,
   "metadata": {},
   "outputs": [],
   "source": [
    "#ConvertToDict(allRecords)"
   ]
  },
  {
   "cell_type": "code",
   "execution_count": null,
   "metadata": {},
   "outputs": [],
   "source": [
    "allRecords.to_csv('wikiRecords', index = False)"
   ]
  },
  {
   "cell_type": "code",
   "execution_count": null,
   "metadata": {},
   "outputs": [],
   "source": []
  }
 ],
 "metadata": {
  "kernelspec": {
   "display_name": "Python 3",
   "language": "python",
   "name": "python3"
  },
  "language_info": {
   "codemirror_mode": {
    "name": "ipython",
    "version": 3
   },
   "file_extension": ".py",
   "mimetype": "text/x-python",
   "name": "python",
   "nbconvert_exporter": "python",
   "pygments_lexer": "ipython3",
   "version": "3.7.7"
  }
 },
 "nbformat": 4,
 "nbformat_minor": 4
}
