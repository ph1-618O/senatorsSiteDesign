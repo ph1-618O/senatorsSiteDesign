{
 "cells": [
  {
   "cell_type": "markdown",
   "metadata": {},
   "source": [
    "# Campaign Contribution Data\n",
    "- consolidating three files into one\n",
    "- cleaning the data\n",
    "- adding column for party ie: democrat, republican etc\n",
    "- adding column for state"
   ]
  },
  {
   "cell_type": "code",
   "execution_count": 1,
   "metadata": {},
   "outputs": [],
   "source": [
    "# Dependencies\n",
    "import re\n",
    "import pandas as pd\n",
    "import numpy as np\n",
    "import requests\n",
    "import os\n",
    "import json\n",
    "import matplotlib.pyplot as plt\n",
    "from bs4 import BeautifulSoup as bs\n",
    "from splinter import Browser\n",
    "import time\n",
    "from IPython.core.display import HTML\n",
    "from datetime import date, datetime"
   ]
  },
  {
   "cell_type": "code",
   "execution_count": 2,
   "metadata": {},
   "outputs": [],
   "source": [
    "contributions_2016 = pd.read_csv('campaign_contribution_2016.csv')\n",
    "stateName = pd.read_csv('stateAbbrv.csv')"
   ]
  },
  {
   "cell_type": "code",
   "execution_count": 3,
   "metadata": {},
   "outputs": [],
   "source": [
    "#contributions_2016.head(50)"
   ]
  },
  {
   "cell_type": "code",
   "execution_count": 4,
   "metadata": {},
   "outputs": [],
   "source": [
    "contributions_2016['Representative'][2] = \"ConnellMitch McConnell (R-Ky)\"\n",
    "contributions_2016['Representative'][52] = 'NameNone None (I-SC)'\n",
    "contributions_2016['Representative'][65] = 'CapitoShelleyMoore Capito (R-WVa)'"
   ]
  },
  {
   "cell_type": "code",
   "execution_count": 5,
   "metadata": {},
   "outputs": [
    {
     "name": "stdout",
     "output_type": "stream",
     "text": [
      "Index = 65, value is:: CapitoShelleyMoore Capito (R-WVa)\n"
     ]
    }
   ],
   "source": [
    "i = 0\n",
    "while i < len(contributions_2016['Representative']):\n",
    "    if 'Capito' in contributions_2016['Representative'][i]:\n",
    "        value = contributions_2016['Representative'][i]\n",
    "        print(f'Index = {i}, value is:: {value}')\n",
    "        i += 1\n",
    "    else:\n",
    "        i += 1"
   ]
  },
  {
   "cell_type": "code",
   "execution_count": 6,
   "metadata": {},
   "outputs": [],
   "source": [
    "stripList = contributions_2016['Representative']\n",
    "namesNoAstrick = []\n",
    "for i in stripList:\n",
    "    namesNoAstrick.append(i[:-1])"
   ]
  },
  {
   "cell_type": "code",
   "execution_count": 7,
   "metadata": {},
   "outputs": [],
   "source": [
    "#len(namesNoAstrick)"
   ]
  },
  {
   "cell_type": "code",
   "execution_count": 8,
   "metadata": {},
   "outputs": [
    {
     "data": {
      "text/plain": [
       "'WarrenElizabeth Warren (D-Mass)'"
      ]
     },
     "execution_count": 8,
     "metadata": {},
     "output_type": "execute_result"
    }
   ],
   "source": [
    "namesNoAstrick[0]"
   ]
  },
  {
   "cell_type": "code",
   "execution_count": 9,
   "metadata": {},
   "outputs": [],
   "source": [
    "namesNoAstrick[-4] = 'SandersBernie Sanders (D-VT)'"
   ]
  },
  {
   "cell_type": "code",
   "execution_count": 10,
   "metadata": {},
   "outputs": [],
   "source": [
    "# counter =0\n",
    "# while counter < len(namesNoAstrick):\n",
    "#     if \"N00009975&cycle=2016\" in namesNoAstrick[counter]:\n",
    "#         print(counter)\n",
    "#     else:\n",
    "#         counter += 1"
   ]
  },
  {
   "cell_type": "code",
   "execution_count": 11,
   "metadata": {},
   "outputs": [
    {
     "data": {
      "text/plain": [
       "'FlakeJeff Flake (R-Ariz)'"
      ]
     },
     "execution_count": 11,
     "metadata": {},
     "output_type": "execute_result"
    }
   ],
   "source": [
    "namesNoAstrick[51]"
   ]
  },
  {
   "cell_type": "code",
   "execution_count": 12,
   "metadata": {},
   "outputs": [
    {
     "data": {
      "text/plain": [
       "'McCainJohn McCain (R-Ariz)*'"
      ]
     },
     "execution_count": 12,
     "metadata": {},
     "output_type": "execute_result"
    }
   ],
   "source": [
    "contributions_2016['Representative'][26]"
   ]
  },
  {
   "cell_type": "code",
   "execution_count": 13,
   "metadata": {},
   "outputs": [],
   "source": [
    "namesNoAstrick[26] = 'John McCain (R-Ariz)'\n",
    "namesNoAstrick[10] = 'Claire McCaskill (D-Mo)'"
   ]
  },
  {
   "cell_type": "code",
   "execution_count": 14,
   "metadata": {},
   "outputs": [],
   "source": [
    "def stripNames(stripList):\n",
    "    state = []\n",
    "    fullName = []\n",
    "    party = []\n",
    "    state = []\n",
    "    for i in stripList:\n",
    "        counter = 0\n",
    "        for j in i:\n",
    "            counter += 1\n",
    "            if j == '(':\n",
    "                party.append(i[counter:-1])\n",
    "                state.append(i[counter+2:-1])\n",
    "                fullName.append(i[:counter-2])\n",
    "            elif '(' not in i:\n",
    "                print(i)\n",
    "    return fullName, state, party"
   ]
  },
  {
   "cell_type": "code",
   "execution_count": 15,
   "metadata": {},
   "outputs": [],
   "source": [
    "listName = stripNames(namesNoAstrick)"
   ]
  },
  {
   "cell_type": "code",
   "execution_count": 16,
   "metadata": {},
   "outputs": [],
   "source": [
    "#len(listName[0])"
   ]
  },
  {
   "cell_type": "code",
   "execution_count": 17,
   "metadata": {},
   "outputs": [],
   "source": [
    "def cleanName(string):\n",
    "    i = 1\n",
    "    while i < len(string):\n",
    "        if string[i] >= 'A' and string[i] <= 'Z':\n",
    "            #print(string[i])\n",
    "            return string[i:]\n",
    "        else:\n",
    "            i+= 1"
   ]
  },
  {
   "cell_type": "code",
   "execution_count": 18,
   "metadata": {},
   "outputs": [],
   "source": [
    "#listName[1]"
   ]
  },
  {
   "cell_type": "code",
   "execution_count": 19,
   "metadata": {},
   "outputs": [],
   "source": [
    "cleanedName = []\n",
    "for i in listName[0]:\n",
    "    cleanedName.append(cleanName(i))\n",
    "    #print(f'{i}')\n",
    "    #time.sleep(0.50)\n",
    "#cleanedName"
   ]
  },
  {
   "cell_type": "code",
   "execution_count": 20,
   "metadata": {},
   "outputs": [
    {
     "name": "stdout",
     "output_type": "stream",
     "text": [
      "McCain\n",
      "McCaskill\n"
     ]
    }
   ],
   "source": [
    "print(cleanedName[26])\n",
    "print(cleanedName[10])"
   ]
  },
  {
   "cell_type": "code",
   "execution_count": 21,
   "metadata": {},
   "outputs": [],
   "source": [
    "cleanedName[26] = 'John McCain'\n",
    "cleanedName[10] = 'Claire McCaskill'"
   ]
  },
  {
   "cell_type": "code",
   "execution_count": 22,
   "metadata": {},
   "outputs": [
    {
     "data": {
      "text/plain": [
       "'ShelleyMoore Capito'"
      ]
     },
     "execution_count": 22,
     "metadata": {},
     "output_type": "execute_result"
    }
   ],
   "source": [
    "cleanedName[65]"
   ]
  },
  {
   "cell_type": "code",
   "execution_count": 23,
   "metadata": {},
   "outputs": [],
   "source": [
    "splitName = []\n",
    "for i in cleanedName:\n",
    "    splitName.append(i.split())"
   ]
  },
  {
   "cell_type": "code",
   "execution_count": 24,
   "metadata": {},
   "outputs": [],
   "source": [
    "#len(cleanedName)\n",
    "#cleanedName"
   ]
  },
  {
   "cell_type": "code",
   "execution_count": 25,
   "metadata": {},
   "outputs": [
    {
     "data": {
      "text/plain": [
       "100"
      ]
     },
     "execution_count": 25,
     "metadata": {},
     "output_type": "execute_result"
    }
   ],
   "source": [
    "Namelist = []\n",
    "noMiddle =[]\n",
    "for i in cleanedName:\n",
    "    Namelist.append(i.split(' '))\n",
    "len(Namelist)"
   ]
  },
  {
   "cell_type": "code",
   "execution_count": 26,
   "metadata": {},
   "outputs": [],
   "source": [
    "# for i in Namelist:\n",
    "#     print(f'{i}')\n",
    "#     time.sleep(.50)"
   ]
  },
  {
   "cell_type": "code",
   "execution_count": 27,
   "metadata": {},
   "outputs": [
    {
     "name": "stdout",
     "output_type": "stream",
     "text": [
      "200\n",
      "100\n",
      "100\n",
      "100\n"
     ]
    }
   ],
   "source": [
    "noMiddle = []\n",
    "counter = 0\n",
    "for i in Namelist:\n",
    "    for j in i:\n",
    "        if len(j) > 1:\n",
    "            noMiddle.append(j)\n",
    "            #print(f'Greater than 1 {j}')\n",
    "            counter += 1\n",
    "        elif len(j) <= 2:\n",
    "            #print(f'Checking {j}')\n",
    "            counter += 1\n",
    "            continue\n",
    "#             query = input('Keep this value, Y/N?')\n",
    "#             if query == 'Y':\n",
    "#                 noMiddle.append(j)\n",
    "#                 counter += 1\n",
    "#             else:\n",
    "#                 continue\n",
    "#                 counter += 1\n",
    "        else:\n",
    "            print(f'{j}')\n",
    "            counter += 1\n",
    "print(len(noMiddle))\n",
    "firstName = noMiddle[:len(noMiddle)+1:2]\n",
    "lastName = noMiddle[1:len(noMiddle)+1:2]\n",
    "print(len(lastName))\n",
    "print(len(firstName))\n",
    "print(len(cleanedName))"
   ]
  },
  {
   "cell_type": "code",
   "execution_count": 28,
   "metadata": {},
   "outputs": [],
   "source": [
    "party = []\n",
    "fullPartyName = []\n",
    "for i in listName[2]:\n",
    "    if 'D' in i:\n",
    "        party.append('D')\n",
    "        fullPartyName.append('Democrat')\n",
    "    elif 'R' in i:\n",
    "        party.append('R')\n",
    "        fullPartyName.append('Republican')\n",
    "    else:\n",
    "        party.append('I')\n",
    "        fullPartyName.append('Independent/Other')"
   ]
  },
  {
   "cell_type": "code",
   "execution_count": 29,
   "metadata": {},
   "outputs": [],
   "source": [
    "matchList = listName[1]\n",
    "#matchList"
   ]
  },
  {
   "cell_type": "code",
   "execution_count": 30,
   "metadata": {},
   "outputs": [],
   "source": [
    "AP = []\n",
    "for i in stateName['Abbrev']:\n",
    "    if i[-1] == '.':\n",
    "        AP.append(i[:-1])\n",
    "    else:\n",
    "        AP.append(i)"
   ]
  },
  {
   "cell_type": "code",
   "execution_count": 31,
   "metadata": {},
   "outputs": [],
   "source": [
    "stateName['AP'] = AP"
   ]
  },
  {
   "cell_type": "code",
   "execution_count": 32,
   "metadata": {},
   "outputs": [],
   "source": [
    "abbrev = stateName['AP']\n",
    "abbrev = abbrev.tolist()\n",
    "#abbrev\n",
    "fullState = (stateName['State']).tolist()\n",
    "shortAbbrev = (stateName['Code']).tolist()\n",
    "fullStateLower = []\n",
    "for i in fullState:\n",
    "    fullStateLower.append(i.lower())\n",
    "stateDict = dict(zip(shortAbbrev, fullStateLower))"
   ]
  },
  {
   "cell_type": "code",
   "execution_count": 33,
   "metadata": {},
   "outputs": [],
   "source": [
    "otherDict = dict(zip(AP, fullStateLower))\n",
    "stateName['lower'] = fullStateLower"
   ]
  },
  {
   "cell_type": "code",
   "execution_count": 34,
   "metadata": {},
   "outputs": [],
   "source": [
    "#len(matchList)#[95:]"
   ]
  },
  {
   "cell_type": "code",
   "execution_count": 35,
   "metadata": {},
   "outputs": [],
   "source": [
    "#stateDict"
   ]
  },
  {
   "cell_type": "code",
   "execution_count": 36,
   "metadata": {},
   "outputs": [],
   "source": [
    "#Matches the strings that have AP style abbreviation with full statenames\n",
    "def getMatch(string):\n",
    "    for key, value in otherDict.items():\n",
    "        if value.startswith(string):\n",
    "            return value"
   ]
  },
  {
   "cell_type": "code",
   "execution_count": 37,
   "metadata": {},
   "outputs": [
    {
     "name": "stdout",
     "output_type": "stream",
     "text": [
      "2: no match\n",
      "52: no match\n"
     ]
    }
   ],
   "source": [
    "#Calling getMatch with matchList input from csv\n",
    "holder = []\n",
    "counter = 0\n",
    "for i in matchList:\n",
    "    #print(i)\n",
    "    i = i.lower()\n",
    "    if (i == 'fla'):\n",
    "        holder.append('florida')\n",
    "        counter += 1\n",
    "    elif (i == 'wva'):\n",
    "        holder.append('west virginia')\n",
    "        counter += 1\n",
    "    elif len(i) > 2:\n",
    "        holder.append(getMatch(i))\n",
    "        counter += 1\n",
    "    elif len(i) == 2:\n",
    "        holder.append(i.upper())\n",
    "        counter += 1\n",
    "    else:\n",
    "        holder.append('None')\n",
    "        print(f'{counter}: no match')\n",
    "        counter += 1\n",
    "#holder"
   ]
  },
  {
   "cell_type": "code",
   "execution_count": 38,
   "metadata": {},
   "outputs": [],
   "source": [
    "#Matches the full state names to abbreviations\n",
    "def getMatch2(string):\n",
    "    for key, value in stateDict.items():\n",
    "        if value.startswith(string):\n",
    "            return key"
   ]
  },
  {
   "cell_type": "code",
   "execution_count": 39,
   "metadata": {},
   "outputs": [],
   "source": [
    "#Calling getMatch2 with holder from getMatch\n",
    "renamedState = []\n",
    "for i in holder:\n",
    "    if len(i) == 2:\n",
    "        renamedState.append(i)\n",
    "    else:\n",
    "        renamedState.append(getMatch2(i))"
   ]
  },
  {
   "cell_type": "code",
   "execution_count": 40,
   "metadata": {},
   "outputs": [],
   "source": [
    "#renamedState"
   ]
  },
  {
   "cell_type": "code",
   "execution_count": 41,
   "metadata": {},
   "outputs": [],
   "source": [
    "renamedState[52] = 'SC'\n",
    "renamedState[2] = 'KY'"
   ]
  },
  {
   "cell_type": "code",
   "execution_count": 42,
   "metadata": {},
   "outputs": [],
   "source": [
    "def longState(search_value):\n",
    "    for key, val in stateDict.items():\n",
    "        if key == search_value:\n",
    "            return val"
   ]
  },
  {
   "cell_type": "code",
   "execution_count": 43,
   "metadata": {},
   "outputs": [],
   "source": [
    "fullStateName = []\n",
    "for i in renamedState:\n",
    "    fullStateName.append((longState(i)).capitalize())\n",
    "#fullStateName"
   ]
  },
  {
   "cell_type": "code",
   "execution_count": 44,
   "metadata": {},
   "outputs": [],
   "source": [
    "def upperTwo(string):\n",
    "    if string.isspace():\n",
    "        return True\n",
    "    else:\n",
    "        return False"
   ]
  },
  {
   "cell_type": "code",
   "execution_count": 45,
   "metadata": {},
   "outputs": [],
   "source": [
    "def capitalTwo(check):\n",
    "    holder = []\n",
    "    i = 0\n",
    "    while i < len(check):\n",
    "        if upperTwo(check[i]):\n",
    "            holder.append(' ')\n",
    "            holder.append(check[i+1].capitalize())\n",
    "            i += 1\n",
    "        elif upperTwo(check[i-1]):\n",
    "            i += 1\n",
    "            continue\n",
    "        else:\n",
    "            holder.append(check[i])\n",
    "            i += 1\n",
    "    return ''.join(holder)"
   ]
  },
  {
   "cell_type": "code",
   "execution_count": 46,
   "metadata": {},
   "outputs": [],
   "source": [
    "upperState = []\n",
    "for i in fullStateName:\n",
    "    upperState.append(capitalTwo(i))"
   ]
  },
  {
   "cell_type": "code",
   "execution_count": 47,
   "metadata": {},
   "outputs": [
    {
     "data": {
      "text/html": [
       "<div>\n",
       "<style scoped>\n",
       "    .dataframe tbody tr th:only-of-type {\n",
       "        vertical-align: middle;\n",
       "    }\n",
       "\n",
       "    .dataframe tbody tr th {\n",
       "        vertical-align: top;\n",
       "    }\n",
       "\n",
       "    .dataframe thead th {\n",
       "        text-align: right;\n",
       "    }\n",
       "</style>\n",
       "<table border=\"1\" class=\"dataframe\">\n",
       "  <thead>\n",
       "    <tr style=\"text-align: right;\">\n",
       "      <th></th>\n",
       "      <th>Representative</th>\n",
       "      <th>Office Running For</th>\n",
       "      <th>Total Raised</th>\n",
       "    </tr>\n",
       "  </thead>\n",
       "  <tbody>\n",
       "    <tr>\n",
       "      <th>0</th>\n",
       "      <td>WarrenElizabeth Warren (D-Mass)</td>\n",
       "      <td>Massachusetts Senate</td>\n",
       "      <td>$51431099</td>\n",
       "    </tr>\n",
       "    <tr>\n",
       "      <th>1</th>\n",
       "      <td>ToomeyPat Toomey (R-Pa)*</td>\n",
       "      <td>Pennsylvania Senate</td>\n",
       "      <td>$30841274</td>\n",
       "    </tr>\n",
       "    <tr>\n",
       "      <th>2</th>\n",
       "      <td>ConnellMitch McConnell (R-Ky)</td>\n",
       "      <td>Kentucky Senate</td>\n",
       "      <td>$30167647</td>\n",
       "    </tr>\n",
       "    <tr>\n",
       "      <th>3</th>\n",
       "      <td>FrankenAl Franken (D-Minn)</td>\n",
       "      <td>Minnesota Senate</td>\n",
       "      <td>$27492595</td>\n",
       "    </tr>\n",
       "    <tr>\n",
       "      <th>4</th>\n",
       "      <td>BrownSherrod Brown (D-Ohio)</td>\n",
       "      <td>Ohio Senate</td>\n",
       "      <td>$26808891</td>\n",
       "    </tr>\n",
       "  </tbody>\n",
       "</table>\n",
       "</div>"
      ],
      "text/plain": [
       "                     Representative    Office Running For Total Raised\n",
       "0  WarrenElizabeth Warren (D-Mass)   Massachusetts Senate    $51431099\n",
       "1          ToomeyPat Toomey (R-Pa)*   Pennsylvania Senate    $30841274\n",
       "2     ConnellMitch McConnell (R-Ky)       Kentucky Senate    $30167647\n",
       "3       FrankenAl Franken (D-Minn)       Minnesota Senate    $27492595\n",
       "4      BrownSherrod Brown (D-Ohio)            Ohio Senate    $26808891"
      ]
     },
     "execution_count": 47,
     "metadata": {},
     "output_type": "execute_result"
    }
   ],
   "source": [
    "contributions_2016.head()"
   ]
  },
  {
   "cell_type": "code",
   "execution_count": 48,
   "metadata": {},
   "outputs": [],
   "source": [
    "Total_Raised = []\n",
    "for i in contributions_2016['Total Raised']:\n",
    "    Total_Raised.append(int(i[1:]))"
   ]
  },
  {
   "cell_type": "code",
   "execution_count": 49,
   "metadata": {},
   "outputs": [
    {
     "data": {
      "text/html": [
       "<div>\n",
       "<style scoped>\n",
       "    .dataframe tbody tr th:only-of-type {\n",
       "        vertical-align: middle;\n",
       "    }\n",
       "\n",
       "    .dataframe tbody tr th {\n",
       "        vertical-align: top;\n",
       "    }\n",
       "\n",
       "    .dataframe thead th {\n",
       "        text-align: right;\n",
       "    }\n",
       "</style>\n",
       "<table border=\"1\" class=\"dataframe\">\n",
       "  <thead>\n",
       "    <tr style=\"text-align: right;\">\n",
       "      <th></th>\n",
       "      <th>Representative</th>\n",
       "      <th>Office Running For</th>\n",
       "      <th>Total Raised</th>\n",
       "    </tr>\n",
       "  </thead>\n",
       "  <tbody>\n",
       "    <tr>\n",
       "      <th>0</th>\n",
       "      <td>WarrenElizabeth Warren (D-Mass)</td>\n",
       "      <td>Massachusetts Senate</td>\n",
       "      <td>$51431099</td>\n",
       "    </tr>\n",
       "    <tr>\n",
       "      <th>1</th>\n",
       "      <td>ToomeyPat Toomey (R-Pa)*</td>\n",
       "      <td>Pennsylvania Senate</td>\n",
       "      <td>$30841274</td>\n",
       "    </tr>\n",
       "    <tr>\n",
       "      <th>2</th>\n",
       "      <td>ConnellMitch McConnell (R-Ky)</td>\n",
       "      <td>Kentucky Senate</td>\n",
       "      <td>$30167647</td>\n",
       "    </tr>\n",
       "    <tr>\n",
       "      <th>3</th>\n",
       "      <td>FrankenAl Franken (D-Minn)</td>\n",
       "      <td>Minnesota Senate</td>\n",
       "      <td>$27492595</td>\n",
       "    </tr>\n",
       "    <tr>\n",
       "      <th>4</th>\n",
       "      <td>BrownSherrod Brown (D-Ohio)</td>\n",
       "      <td>Ohio Senate</td>\n",
       "      <td>$26808891</td>\n",
       "    </tr>\n",
       "    <tr>\n",
       "      <th>...</th>\n",
       "      <td>...</td>\n",
       "      <td>...</td>\n",
       "      <td>...</td>\n",
       "    </tr>\n",
       "    <tr>\n",
       "      <th>95</th>\n",
       "      <td>SessionsJeff Sessions (R-Ala)</td>\n",
       "      <td>Alabama Senate</td>\n",
       "      <td>$1762236</td>\n",
       "    </tr>\n",
       "    <tr>\n",
       "      <th>96</th>\n",
       "      <td>SandersBernie Sanders (D)*</td>\n",
       "      <td>2016 Presidential RaceCurrent office: Vermont ...</td>\n",
       "      <td>$1247909</td>\n",
       "    </tr>\n",
       "    <tr>\n",
       "      <th>97</th>\n",
       "      <td>MikulskiBarbara A Mikulski (D-Md)*</td>\n",
       "      <td>Maryland Senate</td>\n",
       "      <td>$1150484</td>\n",
       "    </tr>\n",
       "    <tr>\n",
       "      <th>98</th>\n",
       "      <td>CoatsDan Coats (R-Ind)*</td>\n",
       "      <td>Indiana Senate</td>\n",
       "      <td>$1123660</td>\n",
       "    </tr>\n",
       "    <tr>\n",
       "      <th>99</th>\n",
       "      <td>BoxerBarbara Boxer (D-Calif)*</td>\n",
       "      <td>California Senate</td>\n",
       "      <td>$690527</td>\n",
       "    </tr>\n",
       "  </tbody>\n",
       "</table>\n",
       "<p>100 rows × 3 columns</p>\n",
       "</div>"
      ],
      "text/plain": [
       "                        Representative  \\\n",
       "0     WarrenElizabeth Warren (D-Mass)    \n",
       "1             ToomeyPat Toomey (R-Pa)*   \n",
       "2        ConnellMitch McConnell (R-Ky)   \n",
       "3          FrankenAl Franken (D-Minn)    \n",
       "4         BrownSherrod Brown (D-Ohio)    \n",
       "..                                 ...   \n",
       "95      SessionsJeff Sessions (R-Ala)    \n",
       "96          SandersBernie Sanders (D)*   \n",
       "97  MikulskiBarbara A Mikulski (D-Md)*   \n",
       "98             CoatsDan Coats (R-Ind)*   \n",
       "99       BoxerBarbara Boxer (D-Calif)*   \n",
       "\n",
       "                                   Office Running For Total Raised  \n",
       "0                                Massachusetts Senate    $51431099  \n",
       "1                                 Pennsylvania Senate    $30841274  \n",
       "2                                     Kentucky Senate    $30167647  \n",
       "3                                    Minnesota Senate    $27492595  \n",
       "4                                         Ohio Senate    $26808891  \n",
       "..                                                ...          ...  \n",
       "95                                     Alabama Senate     $1762236  \n",
       "96  2016 Presidential RaceCurrent office: Vermont ...     $1247909  \n",
       "97                                    Maryland Senate     $1150484  \n",
       "98                                     Indiana Senate     $1123660  \n",
       "99                                  California Senate      $690527  \n",
       "\n",
       "[100 rows x 3 columns]"
      ]
     },
     "execution_count": 49,
     "metadata": {},
     "output_type": "execute_result"
    }
   ],
   "source": [
    "#len(Total_Raised)\n",
    "contributions_2016"
   ]
  },
  {
   "cell_type": "code",
   "execution_count": 50,
   "metadata": {},
   "outputs": [],
   "source": [
    "#len(contributions_2016['First_Name'])"
   ]
  },
  {
   "cell_type": "code",
   "execution_count": 51,
   "metadata": {},
   "outputs": [],
   "source": [
    "contributions_2016['Total_Raised'] = Total_Raised\n",
    "contributions_2016['State_Abbrv'] = renamedState\n",
    "contributions_2016['State'] = upperState\n",
    "contributions_2016['Party'] = party\n",
    "contributions_2016['Party_Name'] = fullPartyName\n",
    "contributions_2016['Full_Name'] = cleanedName\n",
    "contributions_2016['First_Name'] = firstName\n",
    "contributions_2016['Last_Name'] = lastName"
   ]
  },
  {
   "cell_type": "code",
   "execution_count": 52,
   "metadata": {},
   "outputs": [],
   "source": [
    "#contributions_2016"
   ]
  },
  {
   "cell_type": "code",
   "execution_count": 53,
   "metadata": {},
   "outputs": [],
   "source": [
    "contributions_2016 = contributions_2016.drop(['Representative', 'Office Running For', 'Total Raised'], axis = 1)"
   ]
  },
  {
   "cell_type": "code",
   "execution_count": 54,
   "metadata": {},
   "outputs": [],
   "source": [
    "contributions_2016 = contributions_2016[['First_Name', 'Last_Name', 'State', 'Party_Name', 'Total_Raised', 'Full_Name', 'State_Abbrv', 'Party']]"
   ]
  },
  {
   "cell_type": "code",
   "execution_count": 55,
   "metadata": {},
   "outputs": [
    {
     "data": {
      "text/html": [
       "<div>\n",
       "<style scoped>\n",
       "    .dataframe tbody tr th:only-of-type {\n",
       "        vertical-align: middle;\n",
       "    }\n",
       "\n",
       "    .dataframe tbody tr th {\n",
       "        vertical-align: top;\n",
       "    }\n",
       "\n",
       "    .dataframe thead th {\n",
       "        text-align: right;\n",
       "    }\n",
       "</style>\n",
       "<table border=\"1\" class=\"dataframe\">\n",
       "  <thead>\n",
       "    <tr style=\"text-align: right;\">\n",
       "      <th></th>\n",
       "      <th>First_Name</th>\n",
       "      <th>Last_Name</th>\n",
       "      <th>State</th>\n",
       "      <th>Party_Name</th>\n",
       "      <th>Total_Raised</th>\n",
       "      <th>Full_Name</th>\n",
       "      <th>State_Abbrv</th>\n",
       "      <th>Party</th>\n",
       "    </tr>\n",
       "  </thead>\n",
       "  <tbody>\n",
       "    <tr>\n",
       "      <th>0</th>\n",
       "      <td>Lamar</td>\n",
       "      <td>Alexander</td>\n",
       "      <td>Tennessee</td>\n",
       "      <td>Republican</td>\n",
       "      <td>7976089</td>\n",
       "      <td>Lamar Alexander</td>\n",
       "      <td>TN</td>\n",
       "      <td>R</td>\n",
       "    </tr>\n",
       "    <tr>\n",
       "      <th>1</th>\n",
       "      <td>Kelly</td>\n",
       "      <td>Ayotte</td>\n",
       "      <td>New Hampshire</td>\n",
       "      <td>Republican</td>\n",
       "      <td>18428000</td>\n",
       "      <td>Kelly Ayotte</td>\n",
       "      <td>NH</td>\n",
       "      <td>R</td>\n",
       "    </tr>\n",
       "    <tr>\n",
       "      <th>2</th>\n",
       "      <td>Tammy</td>\n",
       "      <td>Baldwin</td>\n",
       "      <td>Wisconsin</td>\n",
       "      <td>Democrat</td>\n",
       "      <td>18657971</td>\n",
       "      <td>Tammy Baldwin</td>\n",
       "      <td>WI</td>\n",
       "      <td>D</td>\n",
       "    </tr>\n",
       "    <tr>\n",
       "      <th>3</th>\n",
       "      <td>John</td>\n",
       "      <td>Barrasso</td>\n",
       "      <td>Wyoming</td>\n",
       "      <td>Republican</td>\n",
       "      <td>5807201</td>\n",
       "      <td>John A Barrasso</td>\n",
       "      <td>WY</td>\n",
       "      <td>R</td>\n",
       "    </tr>\n",
       "    <tr>\n",
       "      <th>4</th>\n",
       "      <td>Michael</td>\n",
       "      <td>Bennet</td>\n",
       "      <td>Colorado</td>\n",
       "      <td>Democrat</td>\n",
       "      <td>17801104</td>\n",
       "      <td>Michael F Bennet</td>\n",
       "      <td>CO</td>\n",
       "      <td>D</td>\n",
       "    </tr>\n",
       "  </tbody>\n",
       "</table>\n",
       "</div>"
      ],
      "text/plain": [
       "  First_Name  Last_Name          State  Party_Name  Total_Raised  \\\n",
       "0      Lamar  Alexander      Tennessee  Republican       7976089   \n",
       "1      Kelly     Ayotte  New Hampshire  Republican      18428000   \n",
       "2      Tammy    Baldwin      Wisconsin    Democrat      18657971   \n",
       "3       John   Barrasso        Wyoming  Republican       5807201   \n",
       "4    Michael     Bennet       Colorado    Democrat      17801104   \n",
       "\n",
       "          Full_Name State_Abbrv Party  \n",
       "0   Lamar Alexander          TN     R  \n",
       "1      Kelly Ayotte          NH     R  \n",
       "2     Tammy Baldwin          WI     D  \n",
       "3   John A Barrasso          WY     R  \n",
       "4  Michael F Bennet          CO     D  "
      ]
     },
     "execution_count": 55,
     "metadata": {},
     "output_type": "execute_result"
    }
   ],
   "source": [
    "contributions_2016 = contributions_2016.sort_values('Last_Name').reset_index()\n",
    "contributions_2016 = contributions_2016.drop(['index'], axis = 1)\n",
    "contributions_2016.head()"
   ]
  },
  {
   "cell_type": "code",
   "execution_count": 56,
   "metadata": {},
   "outputs": [],
   "source": [
    "newList = []\n",
    "for i in contributions_2016['Last_Name']:\n",
    "    if i[0].isspace():\n",
    "        newList.append(i[1:])\n",
    "    else:\n",
    "        newList.append(i)\n",
    "#print(len(newList))\n",
    "contributions_2016 = contributions_2016.drop(['Last_Name'], axis = 1)\n",
    "contributions_2016['Last_Name'] = newList\n",
    "contributions_2016 = contributions_2016[['First_Name', 'Last_Name', 'State', 'Party_Name', 'Total_Raised', 'Full_Name', 'State_Abbrv', 'Party',]]"
   ]
  },
  {
   "cell_type": "code",
   "execution_count": 57,
   "metadata": {},
   "outputs": [
    {
     "name": "stdout",
     "output_type": "stream",
     "text": [
      "100\n"
     ]
    }
   ],
   "source": [
    "print(len(contributions_2016))"
   ]
  },
  {
   "cell_type": "code",
   "execution_count": 58,
   "metadata": {},
   "outputs": [],
   "source": [
    "contributions_2016.to_csv('contributions_2016.csv', index = False)"
   ]
  },
  {
   "cell_type": "code",
   "execution_count": 59,
   "metadata": {},
   "outputs": [
    {
     "name": "stdout",
     "output_type": "stream",
     "text": [
      "[NbConvertApp] Converting notebook campaignContribution2016.ipynb to python\n",
      "[NbConvertApp] Writing 8904 bytes to campaignContribution2016.py\n"
     ]
    }
   ],
   "source": [
    "!jupyter nbconvert --to python campaignContribution2016.ipynb"
   ]
  },
  {
   "cell_type": "code",
   "execution_count": null,
   "metadata": {},
   "outputs": [],
   "source": []
  },
  {
   "cell_type": "code",
   "execution_count": null,
   "metadata": {},
   "outputs": [],
   "source": []
  }
 ],
 "metadata": {
  "kernelspec": {
   "display_name": "Python 3",
   "language": "python",
   "name": "python3"
  },
  "language_info": {
   "codemirror_mode": {
    "name": "ipython",
    "version": 3
   },
   "file_extension": ".py",
   "mimetype": "text/x-python",
   "name": "python",
   "nbconvert_exporter": "python",
   "pygments_lexer": "ipython3",
   "version": "3.7.7"
  }
 },
 "nbformat": 4,
 "nbformat_minor": 4
}
