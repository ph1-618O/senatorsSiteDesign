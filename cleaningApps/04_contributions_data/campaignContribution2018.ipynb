{
 "cells": [
  {
   "cell_type": "markdown",
   "metadata": {},
   "source": [
    "# Campaign Contribution Data\n",
    "- consolidating three files into one\n",
    "- cleaning the data\n",
    "- adding column for party ie: democrat, republican etc\n",
    "- adding column for state"
   ]
  },
  {
   "cell_type": "code",
   "execution_count": 1,
   "metadata": {},
   "outputs": [],
   "source": [
    "# Dependencies\n",
    "import re\n",
    "import pandas as pd\n",
    "import numpy as np\n",
    "import requests\n",
    "import os\n",
    "import json\n",
    "import matplotlib.pyplot as plt\n",
    "from bs4 import BeautifulSoup as bs\n",
    "from splinter import Browser\n",
    "import time\n",
    "from IPython.core.display import HTML\n",
    "from datetime import date, datetime"
   ]
  },
  {
   "cell_type": "code",
   "execution_count": 2,
   "metadata": {},
   "outputs": [],
   "source": [
    "contributions_2018 = pd.read_csv('campaign_contribution_2018.csv')\n",
    "stateName = pd.read_csv('stateAbbrv.csv')"
   ]
  },
  {
   "cell_type": "code",
   "execution_count": 3,
   "metadata": {},
   "outputs": [
    {
     "data": {
      "text/html": [
       "<div>\n",
       "<style scoped>\n",
       "    .dataframe tbody tr th:only-of-type {\n",
       "        vertical-align: middle;\n",
       "    }\n",
       "\n",
       "    .dataframe tbody tr th {\n",
       "        vertical-align: top;\n",
       "    }\n",
       "\n",
       "    .dataframe thead th {\n",
       "        text-align: right;\n",
       "    }\n",
       "</style>\n",
       "<table border=\"1\" class=\"dataframe\">\n",
       "  <thead>\n",
       "    <tr style=\"text-align: right;\">\n",
       "      <th></th>\n",
       "      <th>Representative</th>\n",
       "      <th>Office Running For</th>\n",
       "      <th>Total Raised</th>\n",
       "    </tr>\n",
       "  </thead>\n",
       "  <tbody>\n",
       "    <tr>\n",
       "      <th>0</th>\n",
       "      <td>CruzTed Cruz (R-Texas)*</td>\n",
       "      <td>Texas Senate</td>\n",
       "      <td>$45260806</td>\n",
       "    </tr>\n",
       "    <tr>\n",
       "      <th>1</th>\n",
       "      <td>McCaskillClaire McCaskill (D-Mo)*</td>\n",
       "      <td>Missouri Senate</td>\n",
       "      <td>$38934452</td>\n",
       "    </tr>\n",
       "    <tr>\n",
       "      <th>2</th>\n",
       "      <td>WarrenElizabeth Warren (D-Mass)*</td>\n",
       "      <td>Massachusetts Senate</td>\n",
       "      <td>$34897111</td>\n",
       "    </tr>\n",
       "    <tr>\n",
       "      <th>3</th>\n",
       "      <td>NelsonBill Nelson (D-Fla)*</td>\n",
       "      <td>Florida Senate</td>\n",
       "      <td>$33628769</td>\n",
       "    </tr>\n",
       "    <tr>\n",
       "      <th>4</th>\n",
       "      <td>HeitkampHeidi Heitkamp (D-ND)*</td>\n",
       "      <td>North Dakota Senate</td>\n",
       "      <td>$31025854</td>\n",
       "    </tr>\n",
       "  </tbody>\n",
       "</table>\n",
       "</div>"
      ],
      "text/plain": [
       "                      Representative    Office Running For Total Raised\n",
       "0            CruzTed Cruz (R-Texas)*          Texas Senate    $45260806\n",
       "1  McCaskillClaire McCaskill (D-Mo)*       Missouri Senate    $38934452\n",
       "2   WarrenElizabeth Warren (D-Mass)*  Massachusetts Senate    $34897111\n",
       "3         NelsonBill Nelson (D-Fla)*        Florida Senate    $33628769\n",
       "4     HeitkampHeidi Heitkamp (D-ND)*   North Dakota Senate    $31025854"
      ]
     },
     "execution_count": 3,
     "metadata": {},
     "output_type": "execute_result"
    }
   ],
   "source": [
    "contributions_2018.head(5)"
   ]
  },
  {
   "cell_type": "code",
   "execution_count": 4,
   "metadata": {},
   "outputs": [
    {
     "name": "stdout",
     "output_type": "stream",
     "text": [
      "1 = Mc, McCaskillClaire McCaskill (D-Mo)*\n",
      "9 = connell, McConnellMitch McConnell (R-Ky) \n",
      "15 = Cortez, MastoCatherine Cortez Masto (D-Nev) \n",
      "45 = Van, HollenChris Van Hollen (D-Md) \n",
      "49 = sanders, SandersBernie Sanders (I-Vt)*\n",
      "66 = capito, CapitoShelley Moore Capito (R-WVa) \n",
      "84 = Cindy, Hyde-SmithCindy Hyde-Smith (R-Miss)*\n"
     ]
    }
   ],
   "source": [
    "#Finding indexes of Names that will give errors\n",
    "i = 0\n",
    "while i < len(contributions_2018['Representative']):\n",
    "    if 'Connell' in contributions_2018['Representative'][i]:\n",
    "        z = contributions_2018['Representative'][i]\n",
    "        print(f'{i} = connell, {z}')\n",
    "        i += 1\n",
    "    elif 'Capito' in contributions_2018['Representative'][i]:\n",
    "        z = contributions_2018['Representative'][i]\n",
    "        print(f'{i} = capito, {z}')\n",
    "        i += 1\n",
    "    elif 'Sanders' in contributions_2018['Representative'][i]:\n",
    "        z = contributions_2018['Representative'][i]\n",
    "        print(f'{i} = sanders, {z}')\n",
    "        i += 1\n",
    "    elif 'Mc' in contributions_2018['Representative'][i]:\n",
    "        z = contributions_2018['Representative'][i]\n",
    "        print(f'{i} = Mc, {z}')\n",
    "        i += 1\n",
    "    elif 'Cortez' in contributions_2018['Representative'][i]:\n",
    "        z = contributions_2018['Representative'][i]\n",
    "        print(f'{i} = Cortez, {z}')\n",
    "        i += 1\n",
    "    elif 'Cindy' in contributions_2018['Representative'][i]:\n",
    "        z = contributions_2018['Representative'][i]\n",
    "        print(f'{i} = Cindy, {z}')\n",
    "        i += 1\n",
    "    elif 'Van' in contributions_2018['Representative'][i]:\n",
    "        z = contributions_2018['Representative'][i]\n",
    "        print(f'{i} = Van, {z}')\n",
    "        i += 1\n",
    "    else:\n",
    "        i+= 1"
   ]
  },
  {
   "cell_type": "code",
   "execution_count": 5,
   "metadata": {},
   "outputs": [],
   "source": [
    "contributions_2018['Representative'][66] = 'CapitoShelleyMoore Capito (R-WVa)'\n",
    "contributions_2018['Representative'][84] = 'HydeCindy Hyde-Smith (R-Miss)*'\n",
    "contributions_2018['Representative'][15] = 'MastoCatherineCortez Masto (D-Nev)'\n",
    "contributions_2018['Representative'][45] = 'HollenChrisVan Hollen (D-Md)'"
   ]
  },
  {
   "cell_type": "code",
   "execution_count": 6,
   "metadata": {},
   "outputs": [
    {
     "data": {
      "text/plain": [
       "100"
      ]
     },
     "execution_count": 6,
     "metadata": {},
     "output_type": "execute_result"
    }
   ],
   "source": [
    "len(contributions_2018)"
   ]
  },
  {
   "cell_type": "code",
   "execution_count": 7,
   "metadata": {},
   "outputs": [],
   "source": [
    "stripList = contributions_2018['Representative']\n",
    "namesNoAstrick = []\n",
    "for i in stripList:\n",
    "    namesNoAstrick.append(i[:-1])"
   ]
  },
  {
   "cell_type": "code",
   "execution_count": 8,
   "metadata": {},
   "outputs": [
    {
     "data": {
      "text/plain": [
       "100"
      ]
     },
     "execution_count": 8,
     "metadata": {},
     "output_type": "execute_result"
    }
   ],
   "source": [
    "len(namesNoAstrick)"
   ]
  },
  {
   "cell_type": "code",
   "execution_count": 9,
   "metadata": {},
   "outputs": [],
   "source": [
    "# counter =0\n",
    "# while counter < len(namesNoAstrick):\n",
    "#     if \"N00009975&cycle=2016\" in namesNoAstrick[counter]:\n",
    "#         print(counter)\n",
    "#     else:\n",
    "#         counter += 1"
   ]
  },
  {
   "cell_type": "code",
   "execution_count": 10,
   "metadata": {},
   "outputs": [
    {
     "data": {
      "text/plain": [
       "'PaulRand Paul (R-Ky)'"
      ]
     },
     "execution_count": 10,
     "metadata": {},
     "output_type": "execute_result"
    }
   ],
   "source": [
    "namesNoAstrick[51]"
   ]
  },
  {
   "cell_type": "code",
   "execution_count": 11,
   "metadata": {},
   "outputs": [],
   "source": [
    "def stripNames(stripList):\n",
    "    state = []\n",
    "    fullName = []\n",
    "    party = []\n",
    "    state = []\n",
    "    for i in stripList:\n",
    "        counter = 0\n",
    "        for j in i:\n",
    "            counter += 1\n",
    "            if j == '(':\n",
    "                party.append(i[counter:-1])\n",
    "                state.append(i[counter+2:-1])\n",
    "                fullName.append(i[:counter-2])\n",
    "            elif '(' not in i:\n",
    "                print(i)\n",
    "    return fullName, state, party"
   ]
  },
  {
   "cell_type": "code",
   "execution_count": 12,
   "metadata": {},
   "outputs": [],
   "source": [
    "listName = stripNames(namesNoAstrick)"
   ]
  },
  {
   "cell_type": "code",
   "execution_count": 13,
   "metadata": {},
   "outputs": [
    {
     "data": {
      "text/plain": [
       "100"
      ]
     },
     "execution_count": 13,
     "metadata": {},
     "output_type": "execute_result"
    }
   ],
   "source": [
    "len(listName[0])"
   ]
  },
  {
   "cell_type": "code",
   "execution_count": 14,
   "metadata": {},
   "outputs": [],
   "source": [
    "def cleanName(string):\n",
    "    i = 1\n",
    "    while i < len(string):\n",
    "        if string[i] >= 'A' and string[i] <= 'Z':\n",
    "            #print(i)\n",
    "            return string[i:]\n",
    "        else:\n",
    "            i+= 1"
   ]
  },
  {
   "cell_type": "code",
   "execution_count": 15,
   "metadata": {},
   "outputs": [],
   "source": [
    "#listName[1]"
   ]
  },
  {
   "cell_type": "code",
   "execution_count": 16,
   "metadata": {},
   "outputs": [],
   "source": [
    "cleanedName = []\n",
    "for i in listName[0]:\n",
    "    cleanedName.append(cleanName(i))\n",
    "#cleanedName"
   ]
  },
  {
   "cell_type": "code",
   "execution_count": 17,
   "metadata": {},
   "outputs": [],
   "source": [
    "cleanedName[1] = 'Clair McCaskill'\n",
    "cleanedName[9] = 'Mitch McConnell'"
   ]
  },
  {
   "cell_type": "code",
   "execution_count": 18,
   "metadata": {},
   "outputs": [
    {
     "data": {
      "text/plain": [
       "100"
      ]
     },
     "execution_count": 18,
     "metadata": {},
     "output_type": "execute_result"
    }
   ],
   "source": [
    "splitName = []\n",
    "for i in cleanedName:\n",
    "    splitName.append(i.split())\n",
    "Namelist = []\n",
    "noMiddle =[]\n",
    "for i in cleanedName:\n",
    "    Namelist.append(i.split(' '))\n",
    "len(Namelist)\n",
    "#Namelist"
   ]
  },
  {
   "cell_type": "code",
   "execution_count": 19,
   "metadata": {},
   "outputs": [
    {
     "name": "stdout",
     "output_type": "stream",
     "text": [
      "200\n",
      "100\n",
      "100\n",
      "100\n"
     ]
    }
   ],
   "source": [
    "noMiddle = []\n",
    "counter = 0\n",
    "for i in Namelist:\n",
    "    for j in i:\n",
    "        if len(j) > 1:\n",
    "            noMiddle.append(j)\n",
    "            #print(f'Greater than 1 {j}')\n",
    "            counter += 1\n",
    "        elif len(j) <= 2:\n",
    "            #print(f'Checking {j}')\n",
    "            counter += 1\n",
    "            continue\n",
    "#             query = input('Keep this value, Y/N?')\n",
    "#             if query == 'Y':\n",
    "#                 noMiddle.append(j)\n",
    "#                 counter += 1\n",
    "#             else:\n",
    "#                 continue\n",
    "#                 counter += 1\n",
    "        else:\n",
    "            print(f'{j}')\n",
    "            counter += 1\n",
    "print(len(noMiddle))\n",
    "firstName = noMiddle[:len(noMiddle)+1:2]\n",
    "lastName = noMiddle[1:len(noMiddle)+1:2]\n",
    "print(len(lastName))\n",
    "print(len(firstName))\n",
    "print(len(cleanedName))"
   ]
  },
  {
   "cell_type": "code",
   "execution_count": 20,
   "metadata": {},
   "outputs": [],
   "source": [
    "# for i in noMiddle:\n",
    "#     print(i)\n",
    "#     time.sleep(.50)"
   ]
  },
  {
   "cell_type": "code",
   "execution_count": 21,
   "metadata": {},
   "outputs": [],
   "source": [
    "party = []\n",
    "fullPartyName = []\n",
    "for i in listName[2]:\n",
    "    if 'D' in i:\n",
    "        party.append('D')\n",
    "        fullPartyName.append('Democrat')\n",
    "    elif 'R' in i:\n",
    "        party.append('R')\n",
    "        fullPartyName.append('Republican')\n",
    "    else:\n",
    "        party.append('I')\n",
    "        fullPartyName.append('Independent/Other')"
   ]
  },
  {
   "cell_type": "code",
   "execution_count": 22,
   "metadata": {},
   "outputs": [],
   "source": [
    "matchList = listName[1]\n",
    "#matchList"
   ]
  },
  {
   "cell_type": "code",
   "execution_count": 23,
   "metadata": {},
   "outputs": [],
   "source": [
    "AP = []\n",
    "for i in stateName['Abbrev']:\n",
    "    if i[-1] == '.':\n",
    "        AP.append(i[:-1])\n",
    "    else:\n",
    "        AP.append(i)"
   ]
  },
  {
   "cell_type": "code",
   "execution_count": 24,
   "metadata": {},
   "outputs": [],
   "source": [
    "stateName['AP'] = AP"
   ]
  },
  {
   "cell_type": "code",
   "execution_count": 25,
   "metadata": {},
   "outputs": [],
   "source": [
    "abbrev = stateName['AP']\n",
    "abbrev = abbrev.tolist()\n",
    "#abbrev\n",
    "fullState = (stateName['State']).tolist()\n",
    "shortAbbrev = (stateName['Code']).tolist()\n",
    "fullStateLower = []\n",
    "for i in fullState:\n",
    "    fullStateLower.append(i.lower())\n",
    "stateDict = dict(zip(shortAbbrev, fullStateLower))"
   ]
  },
  {
   "cell_type": "code",
   "execution_count": 26,
   "metadata": {},
   "outputs": [],
   "source": [
    "otherDict = dict(zip(AP, fullStateLower))\n",
    "stateName['lower'] = fullStateLower"
   ]
  },
  {
   "cell_type": "code",
   "execution_count": 27,
   "metadata": {},
   "outputs": [
    {
     "data": {
      "text/plain": [
       "100"
      ]
     },
     "execution_count": 27,
     "metadata": {},
     "output_type": "execute_result"
    }
   ],
   "source": [
    "len(matchList)#[95:]"
   ]
  },
  {
   "cell_type": "code",
   "execution_count": 28,
   "metadata": {},
   "outputs": [],
   "source": [
    "#stateDict"
   ]
  },
  {
   "cell_type": "code",
   "execution_count": 29,
   "metadata": {},
   "outputs": [],
   "source": [
    "#Matches the strings that have AP style abbreviation with full statenames\n",
    "def getMatch(string):\n",
    "    for key, value in otherDict.items():\n",
    "        if value.startswith(string):\n",
    "            return value"
   ]
  },
  {
   "cell_type": "code",
   "execution_count": 30,
   "metadata": {},
   "outputs": [
    {
     "name": "stdout",
     "output_type": "stream",
     "text": [
      "45: no match\n"
     ]
    }
   ],
   "source": [
    "#Calling getMatch with matchList input from csv\n",
    "holder = []\n",
    "counter = 0\n",
    "for i in matchList:\n",
    "    #print(i)\n",
    "    i = i.lower()\n",
    "    if (i == 'fla'):\n",
    "        holder.append('florida')\n",
    "        counter += 1\n",
    "    elif (i == 'wva'):\n",
    "        holder.append('west virginia')\n",
    "        counter += 1\n",
    "    elif len(i) > 2:\n",
    "        holder.append(getMatch(i))\n",
    "        counter += 1\n",
    "    elif len(i) == 2:\n",
    "        holder.append(i.upper())\n",
    "        counter += 1\n",
    "    else:\n",
    "        holder.append('None')\n",
    "        print(f'{counter}: no match')\n",
    "        counter += 1\n",
    "#holder"
   ]
  },
  {
   "cell_type": "code",
   "execution_count": 31,
   "metadata": {},
   "outputs": [],
   "source": [
    "#Matches the full state names to abbreviations\n",
    "def getMatch2(string):\n",
    "    for key, value in stateDict.items():\n",
    "        if value.startswith(string):\n",
    "            return key"
   ]
  },
  {
   "cell_type": "code",
   "execution_count": 32,
   "metadata": {},
   "outputs": [],
   "source": [
    "#Calling getMatch2 with holder from getMatch\n",
    "renamedState = []\n",
    "for i in holder:\n",
    "    if len(i) == 2:\n",
    "        renamedState.append(i)\n",
    "    else:\n",
    "        renamedState.append(getMatch2(i))\n"
   ]
  },
  {
   "cell_type": "code",
   "execution_count": 33,
   "metadata": {},
   "outputs": [
    {
     "data": {
      "text/plain": [
       "100"
      ]
     },
     "execution_count": 33,
     "metadata": {},
     "output_type": "execute_result"
    }
   ],
   "source": [
    "len(renamedState)"
   ]
  },
  {
   "cell_type": "code",
   "execution_count": 34,
   "metadata": {},
   "outputs": [
    {
     "data": {
      "text/plain": [
       "'HollenChrisVan Hollen (D-Md)'"
      ]
     },
     "execution_count": 34,
     "metadata": {},
     "output_type": "execute_result"
    }
   ],
   "source": [
    "contributions_2018['Representative'][45]"
   ]
  },
  {
   "cell_type": "code",
   "execution_count": 35,
   "metadata": {},
   "outputs": [],
   "source": [
    "#print(type(renamedState[45]))\n",
    "renamedState[45] = 'MD'"
   ]
  },
  {
   "cell_type": "code",
   "execution_count": 36,
   "metadata": {},
   "outputs": [],
   "source": [
    "def longState(search_value):\n",
    "    for key, val in stateDict.items():\n",
    "        if key == search_value:\n",
    "            return val"
   ]
  },
  {
   "cell_type": "code",
   "execution_count": 37,
   "metadata": {},
   "outputs": [],
   "source": [
    "fullStateName = []\n",
    "for i in renamedState:\n",
    "    fullStateName.append((longState(i)).capitalize())\n",
    "#fullStateName"
   ]
  },
  {
   "cell_type": "code",
   "execution_count": 38,
   "metadata": {},
   "outputs": [],
   "source": [
    "def upperTwo(string):\n",
    "    if string.isspace():\n",
    "        return True\n",
    "    else:\n",
    "        return False"
   ]
  },
  {
   "cell_type": "code",
   "execution_count": 39,
   "metadata": {},
   "outputs": [],
   "source": [
    "def capitalTwo(check):\n",
    "    holder = []\n",
    "    i = 0\n",
    "    while i < len(check):\n",
    "        if upperTwo(check[i]):\n",
    "            holder.append(' ')\n",
    "            holder.append(check[i+1].capitalize())\n",
    "            i += 1\n",
    "        elif upperTwo(check[i-1]):\n",
    "            i += 1\n",
    "            continue\n",
    "        else:\n",
    "            holder.append(check[i])\n",
    "            i += 1\n",
    "    return ''.join(holder)"
   ]
  },
  {
   "cell_type": "code",
   "execution_count": 40,
   "metadata": {},
   "outputs": [],
   "source": [
    "upperState = []\n",
    "for i in fullStateName:\n",
    "    upperState.append(capitalTwo(i))"
   ]
  },
  {
   "cell_type": "code",
   "execution_count": 41,
   "metadata": {},
   "outputs": [],
   "source": [
    "Total_Raised = []\n",
    "for i in contributions_2018['Total Raised']:\n",
    "    Total_Raised.append(int(i[1:]))"
   ]
  },
  {
   "cell_type": "code",
   "execution_count": 42,
   "metadata": {},
   "outputs": [
    {
     "data": {
      "text/plain": [
       "100"
      ]
     },
     "execution_count": 42,
     "metadata": {},
     "output_type": "execute_result"
    }
   ],
   "source": [
    "len(Total_Raised)"
   ]
  },
  {
   "cell_type": "code",
   "execution_count": 43,
   "metadata": {},
   "outputs": [],
   "source": [
    "contributions_2018['Total_Raised'] = Total_Raised\n",
    "contributions_2018['State_Abbrv'] = renamedState\n",
    "contributions_2018['State'] = upperState\n",
    "contributions_2018['Party'] = party\n",
    "contributions_2018['Party_Name'] = fullPartyName\n",
    "contributions_2018['Full_Name'] = cleanedName\n",
    "contributions_2018['First_Name'] = firstName\n",
    "contributions_2018['Last_Name'] = lastName"
   ]
  },
  {
   "cell_type": "code",
   "execution_count": 44,
   "metadata": {},
   "outputs": [],
   "source": [
    "contributions_2018 = contributions_2018.drop(['Representative', 'Office Running For', 'Total Raised'], axis = 1)"
   ]
  },
  {
   "cell_type": "code",
   "execution_count": 45,
   "metadata": {},
   "outputs": [],
   "source": [
    "contributions_2018 = contributions_2018[['First_Name', 'Last_Name', 'State', 'Party_Name', 'Total_Raised', 'Full_Name', 'State_Abbrv', 'Party']]"
   ]
  },
  {
   "cell_type": "code",
   "execution_count": 46,
   "metadata": {},
   "outputs": [],
   "source": [
    "# contributions_2018['Name'][1] = 'Claire McCaskill'\n",
    "# contributions_2018['Name'][9] = 'Mitch McConnell'\n",
    "# contributions_2018['Name'][84] = 'Cindy Hyde-Smith'"
   ]
  },
  {
   "cell_type": "code",
   "execution_count": 47,
   "metadata": {},
   "outputs": [
    {
     "data": {
      "text/plain": [
       "'Cindy Hyde-Smith'"
      ]
     },
     "execution_count": 47,
     "metadata": {},
     "output_type": "execute_result"
    }
   ],
   "source": [
    "#contributions_2018['Full_Name'][1]# = 'Claire McCaskill'\n",
    "#contributions_2018['Full_Name'][9]#= 'Mitch McConnell'\n",
    "contributions_2018['Full_Name'][84]# = 'Cindy Hyde-Smith'"
   ]
  },
  {
   "cell_type": "code",
   "execution_count": 48,
   "metadata": {},
   "outputs": [
    {
     "data": {
      "text/html": [
       "<div>\n",
       "<style scoped>\n",
       "    .dataframe tbody tr th:only-of-type {\n",
       "        vertical-align: middle;\n",
       "    }\n",
       "\n",
       "    .dataframe tbody tr th {\n",
       "        vertical-align: top;\n",
       "    }\n",
       "\n",
       "    .dataframe thead th {\n",
       "        text-align: right;\n",
       "    }\n",
       "</style>\n",
       "<table border=\"1\" class=\"dataframe\">\n",
       "  <thead>\n",
       "    <tr style=\"text-align: right;\">\n",
       "      <th></th>\n",
       "      <th>First_Name</th>\n",
       "      <th>Last_Name</th>\n",
       "      <th>State</th>\n",
       "      <th>Party_Name</th>\n",
       "      <th>Total_Raised</th>\n",
       "      <th>Full_Name</th>\n",
       "      <th>State_Abbrv</th>\n",
       "      <th>Party</th>\n",
       "    </tr>\n",
       "  </thead>\n",
       "  <tbody>\n",
       "    <tr>\n",
       "      <th>0</th>\n",
       "      <td>Lamar</td>\n",
       "      <td>Alexander</td>\n",
       "      <td>Tennessee</td>\n",
       "      <td>Republican</td>\n",
       "      <td>8031431</td>\n",
       "      <td>Lamar Alexander</td>\n",
       "      <td>TN</td>\n",
       "      <td>R</td>\n",
       "    </tr>\n",
       "    <tr>\n",
       "      <th>1</th>\n",
       "      <td>Tammy</td>\n",
       "      <td>Baldwin</td>\n",
       "      <td>Wisconsin</td>\n",
       "      <td>Democrat</td>\n",
       "      <td>30898416</td>\n",
       "      <td>Tammy Baldwin</td>\n",
       "      <td>WI</td>\n",
       "      <td>D</td>\n",
       "    </tr>\n",
       "    <tr>\n",
       "      <th>2</th>\n",
       "      <td>John</td>\n",
       "      <td>Barrasso</td>\n",
       "      <td>Wyoming</td>\n",
       "      <td>Republican</td>\n",
       "      <td>7380997</td>\n",
       "      <td>John A Barrasso</td>\n",
       "      <td>WY</td>\n",
       "      <td>R</td>\n",
       "    </tr>\n",
       "    <tr>\n",
       "      <th>3</th>\n",
       "      <td>Michael</td>\n",
       "      <td>Bennet</td>\n",
       "      <td>Colorado</td>\n",
       "      <td>Democrat</td>\n",
       "      <td>17579297</td>\n",
       "      <td>Michael F Bennet</td>\n",
       "      <td>CO</td>\n",
       "      <td>D</td>\n",
       "    </tr>\n",
       "    <tr>\n",
       "      <th>4</th>\n",
       "      <td>Richard</td>\n",
       "      <td>Blumenthal</td>\n",
       "      <td>Connecticut</td>\n",
       "      <td>Democrat</td>\n",
       "      <td>9049428</td>\n",
       "      <td>Richard Blumenthal</td>\n",
       "      <td>CT</td>\n",
       "      <td>D</td>\n",
       "    </tr>\n",
       "  </tbody>\n",
       "</table>\n",
       "</div>"
      ],
      "text/plain": [
       "  First_Name   Last_Name        State  Party_Name  Total_Raised  \\\n",
       "0      Lamar   Alexander    Tennessee  Republican       8031431   \n",
       "1      Tammy     Baldwin    Wisconsin    Democrat      30898416   \n",
       "2       John    Barrasso      Wyoming  Republican       7380997   \n",
       "3    Michael      Bennet     Colorado    Democrat      17579297   \n",
       "4    Richard  Blumenthal  Connecticut    Democrat       9049428   \n",
       "\n",
       "            Full_Name State_Abbrv Party  \n",
       "0     Lamar Alexander          TN     R  \n",
       "1       Tammy Baldwin          WI     D  \n",
       "2     John A Barrasso          WY     R  \n",
       "3    Michael F Bennet          CO     D  \n",
       "4  Richard Blumenthal          CT     D  "
      ]
     },
     "execution_count": 48,
     "metadata": {},
     "output_type": "execute_result"
    }
   ],
   "source": [
    "contributions_2018 = contributions_2018.sort_values('Last_Name').reset_index()\n",
    "contributions_2018 = contributions_2018.drop(['index'], axis = 1)\n",
    "contributions_2018.head()"
   ]
  },
  {
   "cell_type": "code",
   "execution_count": 49,
   "metadata": {},
   "outputs": [],
   "source": [
    "newList = []\n",
    "for i in contributions_2018['Last_Name']:\n",
    "    if i[0].isspace():\n",
    "        newList.append(i[1:])\n",
    "    else:\n",
    "        newList.append(i)\n",
    "#print(len(newList))\n",
    "contributions_2018 = contributions_2018.drop(['Last_Name'], axis = 1)\n",
    "contributions_2018['Last_Name'] = newList\n",
    "contributions_2018 = contributions_2018[['First_Name', 'Last_Name', 'State', 'Party_Name', 'Total_Raised', 'Full_Name', 'State_Abbrv', 'Party',]]"
   ]
  },
  {
   "cell_type": "code",
   "execution_count": 50,
   "metadata": {},
   "outputs": [],
   "source": [
    "contributions_2018.to_csv('contributions_2018.csv', index = False)"
   ]
  },
  {
   "cell_type": "code",
   "execution_count": 51,
   "metadata": {},
   "outputs": [
    {
     "name": "stdout",
     "output_type": "stream",
     "text": [
      "[NbConvertApp] Converting notebook campaignContribution2018.ipynb to python\n",
      "[NbConvertApp] Writing 9405 bytes to campaignContribution2018.py\n"
     ]
    }
   ],
   "source": [
    "#exporting notebook to python file\n",
    "!jupyter nbconvert --to python campaignContribution2018.ipynb"
   ]
  },
  {
   "cell_type": "code",
   "execution_count": null,
   "metadata": {},
   "outputs": [],
   "source": []
  }
 ],
 "metadata": {
  "kernelspec": {
   "display_name": "Python 3",
   "language": "python",
   "name": "python3"
  },
  "language_info": {
   "codemirror_mode": {
    "name": "ipython",
    "version": 3
   },
   "file_extension": ".py",
   "mimetype": "text/x-python",
   "name": "python",
   "nbconvert_exporter": "python",
   "pygments_lexer": "ipython3",
   "version": "3.7.7"
  }
 },
 "nbformat": 4,
 "nbformat_minor": 4
}
